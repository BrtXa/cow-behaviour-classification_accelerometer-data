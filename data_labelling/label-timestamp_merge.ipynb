{
 "cells": [
  {
   "cell_type": "markdown",
   "metadata": {},
   "source": [
    "# Cow behaviour labelling\n",
    "Using a pre-trained model."
   ]
  },
  {
   "cell_type": "code",
   "execution_count": 1,
   "metadata": {},
   "outputs": [],
   "source": [
    "import os\n",
    "\n",
    "notebook_mode: int = int(\n",
    "    input(\n",
    "        \"\"\"\n",
    "    Select notebook mode: \n",
    "    1. Google Colab  2. Local\n",
    "    \"\"\"\n",
    "    )\n",
    ")\n",
    "\n",
    "if notebook_mode == 1:\n",
    "    # Run on Colab.\n",
    "    INPUT_PATH: str = \"/content/drive/MyDrive/Ellinbank/video_observation/data/\"\n",
    "    SCRIPT_PATH: str = \"/content/drive/MyDrive/Ellinbank/video_observation/training_testing/data_labelling/\"\n",
    "    OUTPUT_PATH: str = \"/content/drive/MyDrive/Ellinbank/video_observation/output/\"\n",
    "    os.system(command=\"cp {}custom_model.py .\".format(SCRIPT_PATH))\n",
    "    os.system(command=\"cp {}inference.py .\".format(SCRIPT_PATH))\n",
    "    os.system(command=\"cp {}utils.py .\".format(SCRIPT_PATH))\n",
    "    os.system(command=\"cp {}operation.py .\".format(SCRIPT_PATH))\n",
    "elif notebook_mode == 2:\n",
    "    # INPUT_PATH: str = \"../../../../data/\"\n",
    "    INPUT_PATH: str = \"../data_labelling/out/\"\n",
    "    SCRIPT_PATH: str = \"./\"\n",
    "    OUTPUT_PATH: str = \"./out/\""
   ]
  },
  {
   "cell_type": "code",
   "execution_count": 2,
   "metadata": {},
   "outputs": [
    {
     "name": "stdout",
     "output_type": "stream",
     "text": [
      "['MOS2E03230475', 'MOS2E03230488', 'MOS2E03230532', 'MOS2E03230539', 'MOS2E03230553']\n"
     ]
    }
   ],
   "source": [
    "import os\n",
    "\n",
    "sensor_dirs: list[int] = [\n",
    "    d\n",
    "    for d in os.listdir(path=INPUT_PATH)\n",
    "    if os.path.isdir(s=os.path.join(INPUT_PATH, d)) and d.startswith(\"MOS\")\n",
    "]\n",
    "\n",
    "print(sensor_dirs)"
   ]
  },
  {
   "cell_type": "code",
   "execution_count": 3,
   "metadata": {},
   "outputs": [
    {
     "name": "stdout",
     "output_type": "stream",
     "text": [
      "['../data_labelling/out/MOS2E03230475/MOS2E03230475.txt', '../data_labelling/out/MOS2E03230475/MOS2E03230475_timestamps.txt']\n",
      "['../data_labelling/out/MOS2E03230488/MOS2E03230488.txt', '../data_labelling/out/MOS2E03230488/MOS2E03230488_timestamps.txt']\n",
      "['../data_labelling/out/MOS2E03230532/MOS2E03230532.txt', '../data_labelling/out/MOS2E03230532/MOS2E03230532_timestamps.txt']\n",
      "['../data_labelling/out/MOS2E03230539/MOS2E03230539.txt', '../data_labelling/out/MOS2E03230539/MOS2E03230539_timestamps.txt']\n",
      "['../data_labelling/out/MOS2E03230553/MOS2E03230553.txt', '../data_labelling/out/MOS2E03230553/MOS2E03230553_timestamps.txt']\n"
     ]
    }
   ],
   "source": [
    "import glob\n",
    "\n",
    "import pandas\n",
    "import pandas.io.parsers.readers\n",
    "\n",
    "for sensor in sensor_dirs:\n",
    "    files: list[str] = os.listdir(path=\"{}{}\".format(INPUT_PATH, sensor))\n",
    "    os.system(\"rm -rf {}{}_timestamp-label.txt\".format(INPUT_PATH, sensor))\n",
    "\n",
    "    # full_data_file: str = glob.glob(pathname=\"{}{}/*.csv\".format(INPUT_PATH, sensor))[0]\n",
    "    txt_files: list[str] = glob.glob(pathname=\"{}{}/*.txt\".format(INPUT_PATH, sensor))\n",
    "    txt_files.sort()\n",
    "    print(txt_files)\n",
    "\n",
    "    ts_df: pandas.DataFrame = pandas.read_csv(\n",
    "        filepath_or_buffer=txt_files[1],\n",
    "        sep=\",\",\n",
    "        names=[\"timestamps\"],\n",
    "        header=None,\n",
    "    )\n",
    "    label_df: pandas.DataFrame = pandas.read_csv(\n",
    "        filepath_or_buffer=txt_files[0],\n",
    "        sep=\",\",\n",
    "        names=[\"predicted_labels\"],\n",
    "        header=None,\n",
    "    )\n",
    "    tsl_df: pandas.DataFrame = pandas.concat(\n",
    "        objs=[ts_df, label_df],\n",
    "        axis=1,\n",
    "    )\n",
    "    tsl_df.to_csv(\n",
    "        path_or_buf=\"{}{}_timestamp-label.txt\".format(INPUT_PATH, sensor),\n",
    "        sep=\",\",\n",
    "        index=False,\n",
    "    )"
   ]
  },
  {
   "cell_type": "code",
   "execution_count": 10,
   "metadata": {},
   "outputs": [
    {
     "data": {
      "text/html": [
       "<div>\n",
       "<style scoped>\n",
       "    .dataframe tbody tr th:only-of-type {\n",
       "        vertical-align: middle;\n",
       "    }\n",
       "\n",
       "    .dataframe tbody tr th {\n",
       "        vertical-align: top;\n",
       "    }\n",
       "\n",
       "    .dataframe thead th {\n",
       "        text-align: right;\n",
       "    }\n",
       "</style>\n",
       "<table border=\"1\" class=\"dataframe\">\n",
       "  <thead>\n",
       "    <tr style=\"text-align: right;\">\n",
       "      <th></th>\n",
       "      <th>timestamps</th>\n",
       "      <th>predicted_labels</th>\n",
       "    </tr>\n",
       "  </thead>\n",
       "  <tbody>\n",
       "    <tr>\n",
       "      <th>939687</th>\n",
       "      <td>2023-04-15 02:43:03.900</td>\n",
       "      <td>NaN</td>\n",
       "    </tr>\n",
       "    <tr>\n",
       "      <th>939688</th>\n",
       "      <td>2023-04-15 02:43:03.934</td>\n",
       "      <td>NaN</td>\n",
       "    </tr>\n",
       "    <tr>\n",
       "      <th>939689</th>\n",
       "      <td>2023-04-15 02:43:03.967</td>\n",
       "      <td>NaN</td>\n",
       "    </tr>\n",
       "    <tr>\n",
       "      <th>939690</th>\n",
       "      <td>2023-04-15 02:43:04.000</td>\n",
       "      <td>NaN</td>\n",
       "    </tr>\n",
       "    <tr>\n",
       "      <th>939691</th>\n",
       "      <td>2023-04-15 02:43:04.034</td>\n",
       "      <td>NaN</td>\n",
       "    </tr>\n",
       "    <tr>\n",
       "      <th>...</th>\n",
       "      <td>...</td>\n",
       "      <td>...</td>\n",
       "    </tr>\n",
       "    <tr>\n",
       "      <th>939982</th>\n",
       "      <td>2023-04-15 02:43:13.734</td>\n",
       "      <td>NaN</td>\n",
       "    </tr>\n",
       "    <tr>\n",
       "      <th>939983</th>\n",
       "      <td>2023-04-15 02:43:13.767</td>\n",
       "      <td>NaN</td>\n",
       "    </tr>\n",
       "    <tr>\n",
       "      <th>939984</th>\n",
       "      <td>2023-04-15 02:43:13.800</td>\n",
       "      <td>NaN</td>\n",
       "    </tr>\n",
       "    <tr>\n",
       "      <th>939985</th>\n",
       "      <td>2023-04-15 02:43:13.834</td>\n",
       "      <td>NaN</td>\n",
       "    </tr>\n",
       "    <tr>\n",
       "      <th>939986</th>\n",
       "      <td>2023-04-15 02:43:13.867</td>\n",
       "      <td>NaN</td>\n",
       "    </tr>\n",
       "  </tbody>\n",
       "</table>\n",
       "<p>300 rows × 2 columns</p>\n",
       "</div>"
      ],
      "text/plain": [
       "                     timestamps predicted_labels\n",
       "939687  2023-04-15 02:43:03.900              NaN\n",
       "939688  2023-04-15 02:43:03.934              NaN\n",
       "939689  2023-04-15 02:43:03.967              NaN\n",
       "939690  2023-04-15 02:43:04.000              NaN\n",
       "939691  2023-04-15 02:43:04.034              NaN\n",
       "...                         ...              ...\n",
       "939982  2023-04-15 02:43:13.734              NaN\n",
       "939983  2023-04-15 02:43:13.767              NaN\n",
       "939984  2023-04-15 02:43:13.800              NaN\n",
       "939985  2023-04-15 02:43:13.834              NaN\n",
       "939986  2023-04-15 02:43:13.867              NaN\n",
       "\n",
       "[300 rows x 2 columns]"
      ]
     },
     "execution_count": 10,
     "metadata": {},
     "output_type": "execute_result"
    }
   ],
   "source": [
    "tsl_df.head(5)"
   ]
  },
  {
   "cell_type": "code",
   "execution_count": null,
   "metadata": {},
   "outputs": [],
   "source": []
  }
 ],
 "metadata": {
  "kernelspec": {
   "display_name": ".venv",
   "language": "python",
   "name": "python3"
  },
  "language_info": {
   "codemirror_mode": {
    "name": "ipython",
    "version": 3
   },
   "file_extension": ".py",
   "mimetype": "text/x-python",
   "name": "python",
   "nbconvert_exporter": "python",
   "pygments_lexer": "ipython3",
   "version": "3.9.18"
  }
 },
 "nbformat": 4,
 "nbformat_minor": 2
}
