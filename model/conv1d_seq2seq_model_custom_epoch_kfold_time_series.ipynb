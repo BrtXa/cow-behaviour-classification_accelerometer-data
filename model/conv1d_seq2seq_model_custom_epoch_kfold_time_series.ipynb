{
  "cells": [
    {
      "cell_type": "markdown",
      "metadata": {
        "id": "wLKqPO8wjw1-"
      },
      "source": [
        "# Pre-trained CNN for behaviours detection"
      ]
    },
    {
      "cell_type": "markdown",
      "metadata": {
        "id": "K_mgS6Srjw2B"
      },
      "source": [
        "## Imports and constants"
      ]
    },
    {
      "cell_type": "code",
      "execution_count": 1,
      "metadata": {
        "colab": {
          "base_uri": "https://localhost:8080/"
        },
        "id": "L93_kWOAjw2B",
        "outputId": "7b2d562b-f1c7-4029-cc1c-44fe513ae417"
      },
      "outputs": [
        {
          "name": "stderr",
          "output_type": "stream",
          "text": [
            "2024-01-11 01:22:08.057918: I external/local_tsl/tsl/cuda/cudart_stub.cc:31] Could not find cuda drivers on your machine, GPU will not be used.\n",
            "2024-01-11 01:22:08.084971: E external/local_xla/xla/stream_executor/cuda/cuda_dnn.cc:9261] Unable to register cuDNN factory: Attempting to register factory for plugin cuDNN when one has already been registered\n",
            "2024-01-11 01:22:08.085013: E external/local_xla/xla/stream_executor/cuda/cuda_fft.cc:607] Unable to register cuFFT factory: Attempting to register factory for plugin cuFFT when one has already been registered\n",
            "2024-01-11 01:22:08.086023: E external/local_xla/xla/stream_executor/cuda/cuda_blas.cc:1515] Unable to register cuBLAS factory: Attempting to register factory for plugin cuBLAS when one has already been registered\n",
            "2024-01-11 01:22:08.090910: I external/local_tsl/tsl/cuda/cudart_stub.cc:31] Could not find cuda drivers on your machine, GPU will not be used.\n",
            "2024-01-11 01:22:08.091675: I tensorflow/core/platform/cpu_feature_guard.cc:182] This TensorFlow binary is optimized to use available CPU instructions in performance-critical operations.\n",
            "To enable the following instructions: AVX2 FMA, in other operations, rebuild TensorFlow with the appropriate compiler flags.\n",
            "2024-01-11 01:22:08.830820: W tensorflow/compiler/tf2tensorrt/utils/py_utils.cc:38] TF-TRT Warning: Could not find TensorRT\n"
          ]
        },
        {
          "name": "stdout",
          "output_type": "stream",
          "text": [
            "2.15.0\n"
          ]
        }
      ],
      "source": [
        "import random\n",
        "import tensorflow as tf\n",
        "from keras import Sequential\n",
        "from keras.layers import (\n",
        "    Flatten,\n",
        "    Dense,\n",
        "    Dropout,\n",
        "    BatchNormalization,\n",
        "    Embedding,\n",
        "    GRU,\n",
        "    Bidirectional,\n",
        "    RepeatVector,\n",
        "    TimeDistributed,\n",
        ")\n",
        "from keras.losses import SparseCategoricalCrossentropy, MeanSquaredError\n",
        "from keras.layers import Conv1D, MaxPool1D, Conv2D, MaxPool2D\n",
        "from keras.optimizers import Adam, SGD\n",
        "from os import listdir\n",
        "from os.path import isfile, join\n",
        "\n",
        "import os\n",
        "\n",
        "print(tf.__version__)"
      ]
    },
    {
      "cell_type": "code",
      "execution_count": 2,
      "metadata": {
        "id": "dQp89GN5jw2D"
      },
      "outputs": [],
      "source": [
        "import pandas as pd\n",
        "import numpy as np\n",
        "import matplotlib.pyplot as plt\n",
        "from sklearn.model_selection import train_test_split\n",
        "from sklearn.preprocessing import StandardScaler, LabelEncoder\n",
        "from sklearn.utils import class_weight\n",
        "from sklearn.metrics import recall_score, confusion_matrix, ConfusionMatrixDisplay\n",
        "\n",
        "import scipy.stats as stats\n",
        "import sqlite3\n",
        "import gc"
      ]
    },
    {
      "cell_type": "code",
      "execution_count": 3,
      "metadata": {
        "id": "GLdIUVhFjw2D"
      },
      "outputs": [],
      "source": [
        "training_device: str = \"cpu\"\n",
        "\n",
        "if str.lower(training_device) == \"cpu\":\n",
        "    tf.config.set_visible_devices(\n",
        "        devices=[],\n",
        "        device_type=\"GPU\",\n",
        "    )\n",
        "else:\n",
        "    physical_devices = tf.config.experimental.list_physical_devices(\"GPU\")\n",
        "    assert len(physical_devices) > 0, \"Not enough GPU hardware devices available\"\n",
        "    config = tf.config.experimental.set_memory_growth(physical_devices[0], True)"
      ]
    },
    {
      "cell_type": "markdown",
      "metadata": {
        "id": "g1TlB8JKjw2E"
      },
      "source": [
        "## Data pre-processing"
      ]
    },
    {
      "cell_type": "markdown",
      "metadata": {
        "id": "BC8sYou0jw2E"
      },
      "source": [
        "### Load the Dataset"
      ]
    },
    {
      "cell_type": "code",
      "execution_count": 4,
      "metadata": {
        "id": "YcTVYj_HgdpA"
      },
      "outputs": [],
      "source": [
        "def load_data_sqlite() -> pd.DataFrame:\n",
        "    connection: sqlite3.Connection = sqlite3.connect(\n",
        "        database=\"drive/MyDrive/Ellinbank/video_observation/data/sqlite_ellinbank_labeled_data.db\"\n",
        "    )\n",
        "    cursor: sqlite3.Cursor = connection.cursor()\n",
        "\n",
        "    DATABASE_NAME: str = \"LebeledDataTable\"\n",
        "\n",
        "    query: str = \"\"\"\n",
        "    select distinct serial_number\n",
        "    from {}\n",
        "    \"\"\".format(\n",
        "        DATABASE_NAME\n",
        "    )\n",
        "\n",
        "    response: sqlite3.Cursor = cursor.execute(query)\n",
        "    file_names: list = list(response)\n",
        "    file_names = [file[0] for file in file_names]\n",
        "\n",
        "    dataframes: list = []\n",
        "    for file in file_names:\n",
        "        query: str = \"\"\"\n",
        "            select *\n",
        "            from {}\n",
        "            where serial_number = '{}'\n",
        "        \"\"\".format(\n",
        "            DATABASE_NAME,\n",
        "            file,\n",
        "        )\n",
        "        df: pd.DataFrame = pd.read_sql_query(\n",
        "            sql=query,\n",
        "            con=connection,\n",
        "        )\n",
        "        dataframes.append(df)\n",
        "        # break\n",
        "\n",
        "    dataframe: pd.DataFrame = pd.concat(dataframes)\n",
        "    return dataframe"
      ]
    },
    {
      "cell_type": "code",
      "execution_count": 5,
      "metadata": {
        "id": "ua2FKVIEgdpB"
      },
      "outputs": [],
      "source": [
        "import os\n",
        "\n",
        "notebook_mode: int = int(\n",
        "    input(\n",
        "        \"\"\"\n",
        "    Select notebook mode:\n",
        "    1. Google Colab  2. Local\n",
        "    \"\"\"\n",
        "    )\n",
        ")\n",
        "training_set: int = int(\n",
        "    input(\n",
        "        \"\"\"\n",
        "    Decide if the validating cow should be included in the training set or not:\n",
        "    1. Yes 2. No\n",
        "    \"\"\"\n",
        "    )\n",
        ")\n",
        "validating_data_in_training: bool\n",
        "if training_set == 1:\n",
        "    validating_data_in_training = True\n",
        "else:\n",
        "    validating_data_in_training = False\n",
        "\n",
        "if notebook_mode == 1:\n",
        "    # Run on Colab.\n",
        "    INPUT_PATH: str = \"/content/drive/MyDrive/Ellinbank/video_observation/data/\"\n",
        "    SCRIPT_PATH: str = (\n",
        "        \"/content/drive/MyDrive/Ellinbank/video_observation/training_testing/model/\"\n",
        "    )\n",
        "    # OUTPUT_PATH: str = \"/content/drive/MyDrive/Ellinbank/video_observation/output/\"\n",
        "    OUTPUT_PATH: str = \"./out/\"\n",
        "    os.system(command=\"cp {}custom_model.py .\".format(SCRIPT_PATH))\n",
        "    os.system(command=\"cp {}inference.py .\".format(SCRIPT_PATH))\n",
        "    os.system(command=\"cp {}utils.py .\".format(SCRIPT_PATH))\n",
        "    os.system(command=\"cp {}operation.py .\".format(SCRIPT_PATH))\n",
        "    full_data: pd.DataFrame = load_data_sqlite()\n",
        "    # full_data: pd.DataFrame = pd.read_csv(\n",
        "    #     \"{}ellinbank_cow-data_small.csv\".format(INPUT_PATH)\n",
        "    # )\n",
        "elif notebook_mode == 2:\n",
        "    # Run locally.\n",
        "    INPUT_PATH: str = \"../../../../data/\"\n",
        "    SCRIPT_PATH: str = \"./\"\n",
        "    # OUTPUT_PATH: str = \"/content/drive/MyDrive/Ellinbank/video_observation/output/\"\n",
        "    OUTPUT_PATH: str = \"./out/\"\n",
        "    full_data: pd.DataFrame = pd.read_csv(\n",
        "        \"../../../../data/ellinbank_cow-data_small.csv\"\n",
        "    )\n",
        "\n",
        "\n",
        "# notebook_mode: str = \"developing\"\n",
        "# if notebook_mode == \"developing\":\n",
        "#     full_data: pd.DataFrame = pd.read_csv(\"../../../../data/ellinbank_cow-data_small.csv\")\n",
        "# else:\n",
        "#     !cp drive/MyDrive/Ellinbank/video_observation/custom_train_test_loop/k-fold_cross-validation/custom_model.py .\n",
        "#     !cp drive/MyDrive/Ellinbank/video_observation/custom_train_test_loop/k-fold_cross-validation/inference.py .\n",
        "#     !cp drive/MyDrive/Ellinbank/video_observation/custom_train_test_loop/k-fold_cross-validation/utils.py .\n",
        "#     full_data: pd.DataFrame = load_data_sqlite()"
      ]
    },
    {
      "cell_type": "code",
      "execution_count": 6,
      "metadata": {
        "colab": {
          "base_uri": "https://localhost:8080/"
        },
        "id": "JHZ1wxXcgdpB",
        "outputId": "a9f51c78-95da-4c5e-a040-36509466ac34"
      },
      "outputs": [
        {
          "data": {
            "text/plain": [
              "array(['COW3', 'COW8', 'COW11', 'COW17', 'COW19'], dtype=object)"
            ]
          },
          "execution_count": 6,
          "metadata": {},
          "output_type": "execute_result"
        }
      ],
      "source": [
        "all_cows: list[str] = full_data[\"nickname\"].unique()\n",
        "all_cows"
      ]
    },
    {
      "cell_type": "markdown",
      "metadata": {
        "id": "pjW8xGOXgdpC"
      },
      "source": [
        "### Removing `\\n` values and lowercase all entries"
      ]
    },
    {
      "cell_type": "code",
      "execution_count": 7,
      "metadata": {
        "id": "xLePBXBSgdpC"
      },
      "outputs": [],
      "source": [
        "full_data.replace(\n",
        "    to_replace=\"\\n\",\n",
        "    value=\"\",\n",
        "    regex=True,\n",
        "    inplace=True,\n",
        ")\n",
        "full_data[\"Behaviour\"] = full_data[\"Behaviour\"].str.lower()"
      ]
    },
    {
      "cell_type": "markdown",
      "metadata": {
        "id": "AVK4tRjAgdpC"
      },
      "source": [
        "### Removing empty behaviours"
      ]
    },
    {
      "cell_type": "code",
      "execution_count": 8,
      "metadata": {
        "colab": {
          "base_uri": "https://localhost:8080/"
        },
        "id": "bjJ6vi1agdpC",
        "outputId": "855fcfc7-c94f-4192-8b02-de0f87d996d7"
      },
      "outputs": [
        {
          "name": "stdout",
          "output_type": "stream",
          "text": [
            "['g' 'w' 'o' 'i' 'r' 'd' 'u']\n",
            "Behaviour\n",
            "g    9000\n",
            "w    9000\n",
            "o    9000\n",
            "i    9000\n",
            "r    9000\n",
            "u    4720\n",
            "d    4030\n",
            "Name: count, dtype: int64\n"
          ]
        }
      ],
      "source": [
        "full_data = full_data.drop(\n",
        "    full_data[full_data[\"Behaviour\"] == \"\"].index,\n",
        "    inplace=False,\n",
        ")\n",
        "behaviour_col_values: np.ndarray = full_data[\"Behaviour\"].unique()\n",
        "print(behaviour_col_values)\n",
        "print((full_data[\"Behaviour\"].value_counts()))"
      ]
    },
    {
      "cell_type": "markdown",
      "metadata": {
        "id": "gca2cWgRjw2G"
      },
      "source": [
        "### Check for duplicated rows and null values"
      ]
    },
    {
      "cell_type": "code",
      "execution_count": 9,
      "metadata": {
        "colab": {
          "base_uri": "https://localhost:8080/"
        },
        "id": "FBcMF5Xmjw2G",
        "outputId": "00946917-066e-487c-ff77-2eb8bbb54954"
      },
      "outputs": [
        {
          "name": "stdout",
          "output_type": "stream",
          "text": [
            "(0,) rows duplicated\n",
            "serial_number          0\n",
            "nickname               0\n",
            "animalID               0\n",
            "sample_rate            0\n",
            "timestamps             0\n",
            "Behaviour              0\n",
            "acc_axis1              0\n",
            "acc_axis2              0\n",
            "acc_axis3              0\n",
            "acc_mag                0\n",
            "lpf_axis1              0\n",
            "lpf_axis2              0\n",
            "lpf_axis3              0\n",
            "lpf_mag                0\n",
            "hpf_axis1              0\n",
            "hpf_axis2              0\n",
            "hpf_axis3              0\n",
            "hpf_mag                0\n",
            "spd_axis1              0\n",
            "spd_axis2              0\n",
            "spd_axis3              0\n",
            "spd_mag                0\n",
            "spd_axis1_denoised     0\n",
            "spd_axis2_denoised     0\n",
            "spd_axis3_denoised     0\n",
            "spd_mag_denoised       0\n",
            "dis_axis1              0\n",
            "dis_axis2              0\n",
            "dis_axis3              0\n",
            "dis_mag                0\n",
            "dis_axis1_denoised     0\n",
            "dis_axis2_denoised     0\n",
            "dis_axis3_denoised     0\n",
            "dis_mag_denoised       0\n",
            "tilt_axis1             0\n",
            "tilt_axis2             0\n",
            "tilt_axis3             0\n",
            "tilt_axis1_denoised    0\n",
            "tilt_axis2_denoised    0\n",
            "tilt_axis3_denoised    0\n",
            "dtype: int64\n",
            "serial_number          0\n",
            "nickname               0\n",
            "animalID               0\n",
            "sample_rate            0\n",
            "timestamps             0\n",
            "Behaviour              0\n",
            "acc_axis1              0\n",
            "acc_axis2              0\n",
            "acc_axis3              0\n",
            "acc_mag                0\n",
            "lpf_axis1              0\n",
            "lpf_axis2              0\n",
            "lpf_axis3              0\n",
            "lpf_mag                0\n",
            "hpf_axis1              0\n",
            "hpf_axis2              0\n",
            "hpf_axis3              0\n",
            "hpf_mag                0\n",
            "spd_axis1              0\n",
            "spd_axis2              0\n",
            "spd_axis3              0\n",
            "spd_mag                0\n",
            "spd_axis1_denoised     0\n",
            "spd_axis2_denoised     0\n",
            "spd_axis3_denoised     0\n",
            "spd_mag_denoised       0\n",
            "dis_axis1              0\n",
            "dis_axis2              0\n",
            "dis_axis3              0\n",
            "dis_mag                0\n",
            "dis_axis1_denoised     0\n",
            "dis_axis2_denoised     0\n",
            "dis_axis3_denoised     0\n",
            "dis_mag_denoised       0\n",
            "tilt_axis1             0\n",
            "tilt_axis2             0\n",
            "tilt_axis3             0\n",
            "tilt_axis1_denoised    0\n",
            "tilt_axis2_denoised    0\n",
            "tilt_axis3_denoised    0\n",
            "dtype: int64\n"
          ]
        }
      ],
      "source": [
        "duplicated_rows: pd.Series = full_data.duplicated()\n",
        "duplicated_rows = duplicated_rows[duplicated_rows == True]\n",
        "print(\"{} rows duplicated\".format(duplicated_rows.shape))\n",
        "\n",
        "full_data.drop_duplicates(inplace=True)\n",
        "\n",
        "print(full_data.isnull().sum())\n",
        "print(full_data.isna().sum())"
      ]
    },
    {
      "cell_type": "code",
      "execution_count": 10,
      "metadata": {
        "colab": {
          "base_uri": "https://localhost:8080/",
          "height": 147
        },
        "id": "hoL839Rdw3bh",
        "outputId": "fa63a95c-c6c5-4e0a-9d9a-b610c2ba23c3"
      },
      "outputs": [
        {
          "data": {
            "text/html": [
              "<div>\n",
              "<style scoped>\n",
              "    .dataframe tbody tr th:only-of-type {\n",
              "        vertical-align: middle;\n",
              "    }\n",
              "\n",
              "    .dataframe tbody tr th {\n",
              "        vertical-align: top;\n",
              "    }\n",
              "\n",
              "    .dataframe thead th {\n",
              "        text-align: right;\n",
              "    }\n",
              "</style>\n",
              "<table border=\"1\" class=\"dataframe\">\n",
              "  <thead>\n",
              "    <tr style=\"text-align: right;\">\n",
              "      <th></th>\n",
              "      <th>serial_number</th>\n",
              "      <th>nickname</th>\n",
              "      <th>animalID</th>\n",
              "      <th>sample_rate</th>\n",
              "      <th>timestamps</th>\n",
              "      <th>Behaviour</th>\n",
              "      <th>acc_axis1</th>\n",
              "      <th>acc_axis2</th>\n",
              "      <th>acc_axis3</th>\n",
              "      <th>acc_mag</th>\n",
              "      <th>...</th>\n",
              "      <th>dis_axis1_denoised</th>\n",
              "      <th>dis_axis2_denoised</th>\n",
              "      <th>dis_axis3_denoised</th>\n",
              "      <th>dis_mag_denoised</th>\n",
              "      <th>tilt_axis1</th>\n",
              "      <th>tilt_axis2</th>\n",
              "      <th>tilt_axis3</th>\n",
              "      <th>tilt_axis1_denoised</th>\n",
              "      <th>tilt_axis2_denoised</th>\n",
              "      <th>tilt_axis3_denoised</th>\n",
              "    </tr>\n",
              "  </thead>\n",
              "  <tbody>\n",
              "    <tr>\n",
              "      <th>0</th>\n",
              "      <td>COW3_4_thur_final</td>\n",
              "      <td>COW3</td>\n",
              "      <td>3.0</td>\n",
              "      <td>30.0</td>\n",
              "      <td>2023-04-27 09:11:42.000000</td>\n",
              "      <td>g</td>\n",
              "      <td>-0.703</td>\n",
              "      <td>-0.539</td>\n",
              "      <td>0.227</td>\n",
              "      <td>0.914472</td>\n",
              "      <td>...</td>\n",
              "      <td>-10.99752</td>\n",
              "      <td>15.326401</td>\n",
              "      <td>-2.054346</td>\n",
              "      <td>18.975362</td>\n",
              "      <td>-60.483006</td>\n",
              "      <td>-24.392151</td>\n",
              "      <td>74.414919</td>\n",
              "      <td>-59.035276</td>\n",
              "      <td>-27.707135</td>\n",
              "      <td>77.272273</td>\n",
              "    </tr>\n",
              "  </tbody>\n",
              "</table>\n",
              "<p>1 rows × 40 columns</p>\n",
              "</div>"
            ],
            "text/plain": [
              "       serial_number nickname  animalID  sample_rate  \\\n",
              "0  COW3_4_thur_final     COW3       3.0         30.0   \n",
              "\n",
              "                   timestamps Behaviour  acc_axis1  acc_axis2  acc_axis3  \\\n",
              "0  2023-04-27 09:11:42.000000         g     -0.703     -0.539      0.227   \n",
              "\n",
              "    acc_mag  ...  dis_axis1_denoised  dis_axis2_denoised  dis_axis3_denoised  \\\n",
              "0  0.914472  ...           -10.99752           15.326401           -2.054346   \n",
              "\n",
              "   dis_mag_denoised  tilt_axis1  tilt_axis2  tilt_axis3  tilt_axis1_denoised  \\\n",
              "0         18.975362  -60.483006  -24.392151   74.414919           -59.035276   \n",
              "\n",
              "   tilt_axis2_denoised  tilt_axis3_denoised  \n",
              "0           -27.707135            77.272273  \n",
              "\n",
              "[1 rows x 40 columns]"
            ]
          },
          "execution_count": 10,
          "metadata": {},
          "output_type": "execute_result"
        }
      ],
      "source": [
        "full_data.head(1)"
      ]
    },
    {
      "cell_type": "markdown",
      "metadata": {
        "id": "9XbdS8JWjw2H"
      },
      "source": [
        "### Sort data based on date\n",
        "This ensure that actvities are read in a consecutive order and reseting the index of readings (rows)."
      ]
    },
    {
      "cell_type": "code",
      "execution_count": 11,
      "metadata": {
        "id": "Qyp2f8Rijw2H"
      },
      "outputs": [],
      "source": [
        "full_data.sort_values(\n",
        "    by=[\"timestamps\"],\n",
        "    ascending=True,\n",
        "    inplace=True,\n",
        ")\n",
        "\n",
        "full_data = full_data.reset_index(drop=True)"
      ]
    },
    {
      "cell_type": "markdown",
      "metadata": {
        "id": "PDnv3FAmjw2I"
      },
      "source": [
        "### Convert numerical values (input data) to float type"
      ]
    },
    {
      "cell_type": "code",
      "execution_count": 12,
      "metadata": {
        "colab": {
          "base_uri": "https://localhost:8080/"
        },
        "id": "6VaKnKKqjw2J",
        "outputId": "2dacb47e-ee56-4a19-8578-e5e495cc3156"
      },
      "outputs": [
        {
          "data": {
            "text/plain": [
              "16"
            ]
          },
          "execution_count": 12,
          "metadata": {},
          "output_type": "execute_result"
        }
      ],
      "source": [
        "full_data.iloc[:, 6:] = full_data.iloc[:, 6:].astype(\"float\")\n",
        "# train_df: pd.DataFrame = full_data.copy()\n",
        "\n",
        "gc.collect()"
      ]
    },
    {
      "cell_type": "code",
      "execution_count": 13,
      "metadata": {
        "colab": {
          "base_uri": "https://localhost:8080/",
          "height": 489
        },
        "id": "fLq7Aw3wjw2J",
        "outputId": "d0446c7e-e78e-4e53-dc04-22084b1c1964"
      },
      "outputs": [
        {
          "name": "stdout",
          "output_type": "stream",
          "text": [
            "['d' 'g' 'i' 'o' 'r' 'u' 'w']\n",
            "[4030 9000 9000 9000 9000 4720 9000]\n"
          ]
        },
        {
          "data": {
            "image/png": "[encoded data removed]",
            "text/plain": [
              "<Figure size 640x480 with 1 Axes>"
            ]
          },
          "metadata": {},
          "output_type": "display_data"
        }
      ],
      "source": [
        "# Class distribution, will use later but should use seaborn to show labels on columns.\n",
        "existing_labels: np.ndarray = full_data[\"Behaviour\"].to_numpy()\n",
        "\n",
        "existing_types, counts = np.unique(\n",
        "    existing_labels,\n",
        "    return_counts=True,\n",
        ")\n",
        "print(existing_types)\n",
        "print(counts)\n",
        "\n",
        "plt.title(\"Class distribution\")\n",
        "plt.bar(existing_types, counts)\n",
        "plt.show()"
      ]
    },
    {
      "cell_type": "markdown",
      "metadata": {
        "id": "W6sZKWk4jw2K",
        "outputId": "0f4c893b-fb8c-44af-bdc1-b6a6cf98cc59"
      },
      "source": [
        "### Handle minor classes\n",
        "Classes with smaller number of records will be either merged with another class or be removed completely."
      ]
    },
    {
      "cell_type": "code",
      "execution_count": 14,
      "metadata": {
        "colab": {
          "base_uri": "https://localhost:8080/"
        },
        "id": "GM5uUkrVjw2K",
        "outputId": "8f0eeb70-2ce9-4d86-b47a-749f7a461e94"
      },
      "outputs": [
        {
          "data": {
            "text/plain": [
              "3392"
            ]
          },
          "execution_count": 14,
          "metadata": {},
          "output_type": "execute_result"
        }
      ],
      "source": [
        "from utils import handle_minor_classes\n",
        "\n",
        "\n",
        "# full_data = handle_minor_classes(\n",
        "#     data=full_data,\n",
        "#     minor_classes=[\"u\"],\n",
        "#     type=\"remove\",\n",
        "# )\n",
        "full_data = handle_minor_classes(\n",
        "    data=full_data,\n",
        "    minor_classes=[\"d\", \"w\", \"u\"],\n",
        "    type=\"merge\",\n",
        ")\n",
        "gc.collect()"
      ]
    },
    {
      "cell_type": "code",
      "execution_count": 15,
      "metadata": {
        "colab": {
          "base_uri": "https://localhost:8080/",
          "height": 489
        },
        "id": "EIC8kRfujw2L",
        "outputId": "a5220968-e29e-4a60-c770-2fd5a13b4b42"
      },
      "outputs": [
        {
          "name": "stdout",
          "output_type": "stream",
          "text": [
            "['g' 'i' 'o' 'r']\n",
            "[ 9000  9000 26750  9000]\n"
          ]
        },
        {
          "data": {
            "image/png": "[encoded data removed]",
            "text/plain": [
              "<Figure size 640x480 with 1 Axes>"
            ]
          },
          "metadata": {},
          "output_type": "display_data"
        }
      ],
      "source": [
        "# Class distribution after dropping/merging minor classes.\n",
        "existing_labels: np.ndarray = full_data[\"Behaviour\"].to_numpy()\n",
        "\n",
        "existing_types, counts = np.unique(\n",
        "    existing_labels,\n",
        "    return_counts=True,\n",
        ")\n",
        "print(existing_types)\n",
        "print(counts)\n",
        "\n",
        "plt.title(\"Class distribution\")\n",
        "plt.bar(existing_types, counts)\n",
        "plt.show()"
      ]
    },
    {
      "cell_type": "code",
      "execution_count": 16,
      "metadata": {
        "colab": {
          "base_uri": "https://localhost:8080/",
          "height": 1000
        },
        "id": "l7XxuBXFgdpF",
        "outputId": "3c76da64-c59f-4607-c16c-b32e224c8f8d"
      },
      "outputs": [
        {
          "name": "stdout",
          "output_type": "stream",
          "text": [
            "['g' 'i' 'o' 'r']\n",
            "[2000 2000 4000 2000]\n"
          ]
        },
        {
          "data": {
            "image/png": "[encoded data removed]",
            "text/plain": [
              "<Figure size 640x480 with 1 Axes>"
            ]
          },
          "metadata": {},
          "output_type": "display_data"
        },
        {
          "name": "stdout",
          "output_type": "stream",
          "text": [
            "['g' 'i' 'o' 'r']\n",
            "[2000 2000 4000 2000]\n"
          ]
        },
        {
          "data": {
            "image/png": "[encoded data removed]",
            "text/plain": [
              "<Figure size 640x480 with 1 Axes>"
            ]
          },
          "metadata": {},
          "output_type": "display_data"
        },
        {
          "name": "stdout",
          "output_type": "stream",
          "text": [
            "['g' 'i' 'o' 'r']\n",
            "[1000 1000 4000 1000]\n"
          ]
        },
        {
          "data": {
            "image/png": "[encoded data removed]",
            "text/plain": [
              "<Figure size 640x480 with 1 Axes>"
            ]
          },
          "metadata": {},
          "output_type": "display_data"
        },
        {
          "name": "stdout",
          "output_type": "stream",
          "text": [
            "['g' 'i' 'o' 'r']\n",
            "[2000 2000 7720 2000]\n"
          ]
        },
        {
          "data": {
            "image/png": "[encoded data removed]",
            "text/plain": [
              "<Figure size 640x480 with 1 Axes>"
            ]
          },
          "metadata": {},
          "output_type": "display_data"
        },
        {
          "name": "stdout",
          "output_type": "stream",
          "text": [
            "['g' 'i' 'o' 'r']\n",
            "[2000 2000 7030 2000]\n"
          ]
        },
        {
          "data": {
            "image/png": "[encoded data removed]",
            "text/plain": [
              "<Figure size 640x480 with 1 Axes>"
            ]
          },
          "metadata": {},
          "output_type": "display_data"
        }
      ],
      "source": [
        "for cow in all_cows:\n",
        "    current_cow: pd.DataFrame = full_data.loc[full_data[\"nickname\"] == cow]\n",
        "\n",
        "    cow_labels: np.ndarray = current_cow[\"Behaviour\"].to_numpy()\n",
        "\n",
        "    cow_behaviours, counts = np.unique(\n",
        "        cow_labels,\n",
        "        return_counts=True,\n",
        "    )\n",
        "    print(cow_behaviours)\n",
        "    print(counts)\n",
        "\n",
        "    plt.title(\"Class distribution: {}\".format(cow.lower()))\n",
        "    plt.bar(cow_behaviours, counts)\n",
        "    plt.show()"
      ]
    },
    {
      "cell_type": "markdown",
      "metadata": {
        "id": "QD7bIIudgdpF"
      },
      "source": [
        "### Encode classes using numerical values."
      ]
    },
    {
      "cell_type": "code",
      "execution_count": 17,
      "metadata": {
        "colab": {
          "base_uri": "https://localhost:8080/"
        },
        "id": "PXyerjkUjw2L",
        "outputId": "b1327ae9-5a3e-4937-e6ac-e687977260bb"
      },
      "outputs": [
        {
          "name": "stdout",
          "output_type": "stream",
          "text": [
            "[0 1 2 3]\n"
          ]
        }
      ],
      "source": [
        "label = LabelEncoder()\n",
        "full_data[\"label\"] = label.fit_transform(full_data[\"Behaviour\"])\n",
        "# unique_labels: np.ndarray = (\n",
        "#     full_data.groupby([\"Behaviour\", \"label\"])\n",
        "#     .size()\n",
        "#     .reset_index()[\"Behaviour\"]\n",
        "#     .to_numpy()\n",
        "# )\n",
        "\n",
        "\n",
        "unique_labels: np.ndarray = full_data[\"label\"].unique()\n",
        "unique_labels.sort()\n",
        "\n",
        "print(unique_labels)"
      ]
    },
    {
      "cell_type": "markdown",
      "metadata": {
        "id": "DFYc5RtmgdpF"
      },
      "source": [
        "### Split cows data into folds for k-fold cross validation.\n",
        "This process will also remove unnecessary columns and keep only data that will be used for inference."
      ]
    },
    {
      "cell_type": "code",
      "execution_count": 18,
      "metadata": {
        "colab": {
          "base_uri": "https://localhost:8080/"
        },
        "id": "lNShQMo3gdpF",
        "outputId": "f8ef2ed0-4e92-4cb5-f4cf-1c71f00e2122"
      },
      "outputs": [
        {
          "data": {
            "text/plain": [
              "9821"
            ]
          },
          "execution_count": 18,
          "metadata": {},
          "output_type": "execute_result"
        }
      ],
      "source": [
        "folds: dict[str, pd.DataFrame] = {}\n",
        "columns: list = full_data.columns[6:]\n",
        "\n",
        "for cow in all_cows:\n",
        "    # For each unique cow, assign its data into a separate dataframe and\n",
        "    # remove unnecessary columns.\n",
        "    folds[cow] = full_data.loc[full_data[\"nickname\"] == cow]\n",
        "    folds[cow] = folds[cow][columns]\n",
        "\n",
        "# TODO: Remove data of Cow 11 as it has insufficient amount of data for cross validation.\n",
        "# folds.pop(\"COW11\")\n",
        "# TODO: Remember to delete the full_data dataframe to avoid overflow error.\n",
        "del full_data\n",
        "gc.collect()"
      ]
    },
    {
      "cell_type": "code",
      "execution_count": 19,
      "metadata": {
        "colab": {
          "base_uri": "https://localhost:8080/"
        },
        "id": "hV0kS3rLU8Lp",
        "outputId": "5ef37462-4fde-46bd-c4c8-4b2988ba9708"
      },
      "outputs": [
        {
          "data": {
            "text/plain": [
              "Index(['acc_axis1', 'acc_axis2', 'acc_axis3', 'acc_mag', 'lpf_axis1',\n",
              "       'lpf_axis2', 'lpf_axis3', 'lpf_mag', 'hpf_axis1', 'hpf_axis2',\n",
              "       'hpf_axis3', 'hpf_mag', 'spd_axis1', 'spd_axis2', 'spd_axis3',\n",
              "       'spd_mag', 'spd_axis1_denoised', 'spd_axis2_denoised',\n",
              "       'spd_axis3_denoised', 'spd_mag_denoised', 'dis_axis1', 'dis_axis2',\n",
              "       'dis_axis3', 'dis_mag', 'dis_axis1_denoised', 'dis_axis2_denoised',\n",
              "       'dis_axis3_denoised', 'dis_mag_denoised', 'tilt_axis1', 'tilt_axis2',\n",
              "       'tilt_axis3', 'tilt_axis1_denoised', 'tilt_axis2_denoised',\n",
              "       'tilt_axis3_denoised', 'label'],\n",
              "      dtype='object')"
            ]
          },
          "execution_count": 19,
          "metadata": {},
          "output_type": "execute_result"
        }
      ],
      "source": [
        "columns"
      ]
    },
    {
      "cell_type": "code",
      "execution_count": 20,
      "metadata": {
        "colab": {
          "base_uri": "https://localhost:8080/"
        },
        "id": "zD7nHp7-gdpG",
        "outputId": "7bbff06a-e7e0-4ae4-b1ba-dd521fc5aa2a"
      },
      "outputs": [
        {
          "name": "stdout",
          "output_type": "stream",
          "text": [
            "COW3\n",
            "COW8\n",
            "COW11\n",
            "COW17\n",
            "COW19\n"
          ]
        }
      ],
      "source": [
        "for c in folds.keys():\n",
        "    print(c)"
      ]
    },
    {
      "cell_type": "markdown",
      "metadata": {
        "id": "4Y5dz_PLgdpG"
      },
      "source": [
        "### Standardize data."
      ]
    },
    {
      "cell_type": "code",
      "execution_count": 21,
      "metadata": {
        "colab": {
          "base_uri": "https://localhost:8080/"
        },
        "id": "U4bWWPTpgdpG",
        "outputId": "afa56b4d-16cc-4837-b5b2-4310d67bab94"
      },
      "outputs": [
        {
          "data": {
            "text/plain": [
              "0"
            ]
          },
          "execution_count": 21,
          "metadata": {},
          "output_type": "execute_result"
        }
      ],
      "source": [
        "from utils import standardize_dataframe\n",
        "\n",
        "for cow in folds.keys():\n",
        "    standardized_dataframes: pd.DataFrame = standardize_dataframe(\n",
        "        data=folds[cow],\n",
        "        std_cols=columns[:-1],\n",
        "    )\n",
        "    folds[cow] = standardized_dataframes\n",
        "\n",
        "gc.collect()"
      ]
    },
    {
      "cell_type": "code",
      "execution_count": 22,
      "metadata": {
        "colab": {
          "base_uri": "https://localhost:8080/"
        },
        "id": "T5Yl6Wl3gdpG",
        "outputId": "2723d1d2-0199-40cf-bd14-6c452a1be047"
      },
      "outputs": [
        {
          "name": "stdout",
          "output_type": "stream",
          "text": [
            "<class 'pandas.core.frame.DataFrame'>\n",
            "RangeIndex: 10000 entries, 0 to 9999\n",
            "Data columns (total 35 columns):\n",
            " #   Column               Non-Null Count  Dtype  \n",
            "---  ------               --------------  -----  \n",
            " 0   acc_axis1            10000 non-null  float64\n",
            " 1   acc_axis2            10000 non-null  float64\n",
            " 2   acc_axis3            10000 non-null  float64\n",
            " 3   acc_mag              10000 non-null  float64\n",
            " 4   lpf_axis1            10000 non-null  float64\n",
            " 5   lpf_axis2            10000 non-null  float64\n",
            " 6   lpf_axis3            10000 non-null  float64\n",
            " 7   lpf_mag              10000 non-null  float64\n",
            " 8   hpf_axis1            10000 non-null  float64\n",
            " 9   hpf_axis2            10000 non-null  float64\n",
            " 10  hpf_axis3            10000 non-null  float64\n",
            " 11  hpf_mag              10000 non-null  float64\n",
            " 12  spd_axis1            10000 non-null  float64\n",
            " 13  spd_axis2            10000 non-null  float64\n",
            " 14  spd_axis3            10000 non-null  float64\n",
            " 15  spd_mag              10000 non-null  float64\n",
            " 16  spd_axis1_denoised   10000 non-null  float64\n",
            " 17  spd_axis2_denoised   10000 non-null  float64\n",
            " 18  spd_axis3_denoised   10000 non-null  float64\n",
            " 19  spd_mag_denoised     10000 non-null  float64\n",
            " 20  dis_axis1            10000 non-null  float64\n",
            " 21  dis_axis2            10000 non-null  float64\n",
            " 22  dis_axis3            10000 non-null  float64\n",
            " 23  dis_mag              10000 non-null  float64\n",
            " 24  dis_axis1_denoised   10000 non-null  float64\n",
            " 25  dis_axis2_denoised   10000 non-null  float64\n",
            " 26  dis_axis3_denoised   10000 non-null  float64\n",
            " 27  dis_mag_denoised     10000 non-null  float64\n",
            " 28  tilt_axis1           10000 non-null  float64\n",
            " 29  tilt_axis2           10000 non-null  float64\n",
            " 30  tilt_axis3           10000 non-null  float64\n",
            " 31  tilt_axis1_denoised  10000 non-null  float64\n",
            " 32  tilt_axis2_denoised  10000 non-null  float64\n",
            " 33  tilt_axis3_denoised  10000 non-null  float64\n",
            " 34  label                10000 non-null  float64\n",
            "dtypes: float64(35)\n",
            "memory usage: 2.7 MB\n"
          ]
        }
      ],
      "source": [
        "folds[\"COW3\"].info()"
      ]
    },
    {
      "cell_type": "code",
      "execution_count": 23,
      "metadata": {
        "colab": {
          "base_uri": "https://localhost:8080/",
          "height": 489
        },
        "id": "Gv9ER_B5gdpG",
        "outputId": "46a66421-4863-4e66-bf9f-de66e446b526"
      },
      "outputs": [
        {
          "name": "stdout",
          "output_type": "stream",
          "text": [
            "['COW3', 'COW8', 'COW11', 'COW17', 'COW19']\n",
            "[10000, 10000, 7000, 13720, 13030]\n"
          ]
        },
        {
          "data": {
            "image/png": "[encoded data removed]",
            "text/plain": [
              "<Figure size 640x480 with 1 Axes>"
            ]
          },
          "metadata": {},
          "output_type": "display_data"
        }
      ],
      "source": [
        "selected_cows: list[str] = list(folds.keys())\n",
        "no_of_readings_per_cow: list[int] = [len(folds[c]) for c in selected_cows]\n",
        "\n",
        "print(selected_cows)\n",
        "print(no_of_readings_per_cow)\n",
        "\n",
        "plt.title(\"Folds distributions\")\n",
        "plt.bar(selected_cows, no_of_readings_per_cow)\n",
        "plt.show()"
      ]
    },
    {
      "cell_type": "markdown",
      "metadata": {
        "id": "rvdqM3-gOr8n"
      },
      "source": [
        "## Train-test setup."
      ]
    },
    {
      "cell_type": "markdown",
      "metadata": {
        "id": "lDI8Y72IgdpH"
      },
      "source": [
        "### Hyper-parameters"
      ]
    },
    {
      "cell_type": "code",
      "execution_count": 24,
      "metadata": {
        "id": "BV3Iu5ZXgdpH"
      },
      "outputs": [],
      "source": [
        "window_size: int = 600  # 300: 10 seconds\n",
        "window_per_epoch: int = 200\n",
        "epoch: int = 150\n",
        "batch_size: int = 64\n",
        "# random.seed(715) # 715 looks good.\n",
        "random.seed(785)  # 785 makes \"other\" looks bad, otherwise is good."
      ]
    },
    {
      "cell_type": "markdown",
      "metadata": {
        "id": "3SFLNFkQgdpH"
      },
      "source": [
        "### Output folder\n",
        "Output files will be stored in the same folder named `out`."
      ]
    },
    {
      "cell_type": "code",
      "execution_count": 25,
      "metadata": {
        "id": "Q3P_BlIbgdpP"
      },
      "outputs": [],
      "source": [
        "import os\n",
        "\n",
        "# Check if the folder is already exists.\n",
        "if os.path.isdir(\"./out\"):\n",
        "    pass\n",
        "else:\n",
        "    os.mkdir(\"./out/\")\n",
        "    for c in all_cows:\n",
        "        os.mkdir(\"./out/{}/\".format(c.lower()))"
      ]
    },
    {
      "cell_type": "markdown",
      "metadata": {
        "id": "v-C0tWbPgdpP"
      },
      "source": [
        "## Train and validate the model."
      ]
    },
    {
      "cell_type": "markdown",
      "metadata": {
        "id": "xtA30wBegdpP"
      },
      "source": [
        "### Train-test loop with k-fold cross validation.\n",
        "Each fold will be selected as the validation set and an entire train-test loop will be run using that setup. After each run, metrics are collected and the confusion matrix will be plotted. This will be repeated until all the folds are used."
      ]
    },
    {
      "cell_type": "code",
      "execution_count": 26,
      "metadata": {
        "colab": {
          "base_uri": "https://localhost:8080/",
          "height": 1000,
          "referenced_widgets": [
            "3c7822d7fe48476d9fc433588f544087",
            "7b51f3708c8b468ba2b8f88121f40dbd",
            "39154f5ae6ce4f5bb15a36668469d4e4",
            "34565de13e204a4c88fc1fd459886f57",
            "57153ed26fc9412b83daf621c542c55b",
            "dfb7cc9191764327b0bc51abd36fc619",
            "25c4932fd3f2476cbf6093f19a96d468",
            "c489ab06ffd84835a25d9caf791e6fe2",
            "37880076732e4753a1e191375b35f5af",
            "57716c6d96c94a5c8d9cb1e1d6adb257",
            "069484a239b94675a93d42078b6d8799",
            "5dc19a4a21754632bac5ad8063fba7d0",
            "4d664337a5ba49c8b41a2d75a7b21533",
            "4efa426a8fcd4a28af59c3ac4c28249a",
            "fafdf58e215b402eaebb868b2bb01816",
            "379713d256b04713b1c3310786a5030f",
            "261edf7443ba4c05b229603d209d2624",
            "845385ea6ffb4dbaac85898e1ffddb01",
            "47ff653c99724c16a1acd0cdca9ebd45",
            "29f7cac9021c40018a7a6ee1df340c25",
            "a8aa955d36874c74afa3fcc091c43f03",
            "efa8474c18a54721a17a07bcdda3ef69",
            "7999b1673b6b4279b2d7350b1cdb9679",
            "25c0e9644195425f93e062c161da78bd",
            "54c135b11d19412abc8336e2b6c72c3a",
            "6db4df0eb1e741a491aeede3784e2747",
            "68f1e3d5f6a44d7e98d1a635d314b0fe",
            "bb556073daad4ad2af103fc199f3822d",
            "1b97b7d28d6c462589c6180608e72f72",
            "fe8de6a5c4b24c77a00332b5e2f258f3",
            "9319e8416f90467290606193db7f8562",
            "a8848f17b6974e929d99295d5463d4fd",
            "7bfaac231ad84271ae72e23677559ee3",
            "2c99940fc0184fb4b3cf62186235540c",
            "2d85a809496341eba3ea42b44bb89d39",
            "92245b10424d470e9d9e4ed5ee1aa401",
            "665e91c877484a7aaa9a1b7a291d55cb",
            "556669c418704d6a94ad0ef62e109585",
            "96209cfe5397457d9ade9e39ff23ad2e",
            "8ee17479cc424e9e97f77570e428ce0a",
            "7fa3963886d0498db7be8cd7b1dd1941",
            "281d15cc520f469eaeb4f661d5ae1b9b",
            "3fc1d9ab9bfd4ec6a0ffca86ef03c65f",
            "2f77d1b9549242e8bca055f48a384a5f",
            "fbe62d992e8440c3b577606f7a78dada",
            "179423883f1d424398cddce0c2994ac5",
            "943c05d0a26b46c49ed891110b753b9e",
            "0e4776d4f3ea4e2cbb2cd47c5807899d",
            "42d134fd03ed45d4a534304d459297af",
            "8f735dfafe2642c38a96e470e6e662f9",
            "e6a7fb83275f4b87a76f5a19dbaba0de",
            "32e09b2b331d42f8a5201c54572c9879",
            "5a92f653168d44d68f191f3649419ed1",
            "f0a3960267ca45d9abadc8a6562a6484",
            "960c73c75b7143ae9f76a22b98a937da",
            "749fe063a5d44e298b495556e86439b4",
            "512b4ff091524d458da1c5ba9ec90e37",
            "ba5bd543d8cb40f0b32e5bb9dbcf0c95",
            "5dd5396e77544dc7868f69cd7d2f498d",
            "58de261f45024ab1a4ea4bf768846479",
            "45fb95ec78364e20836ca7a3ebbb9fd8",
            "2d57029ac99941798896e3c0e14b97e8",
            "7229a997abae4940ac502ae9e2635f61",
            "2166c7d59ff440a388bb71b4a7cd8d02",
            "7a3a664acaa4433db76cc4a3033a568c",
            "07e9ba9be3af4c44ac7872289cb3d848"
          ]
        },
        "id": "pojJeYECgdpQ",
        "outputId": "c5401d4c-d4dd-49a1-e077-7e08dcf48757"
      },
      "outputs": [
        {
          "data": {
            "application/vnd.jupyter.widget-view+json": {
              "model_id": "49b6ebfd573d48b4bae002999576b4ee",
              "version_major": 2,
              "version_minor": 0
            },
            "text/plain": [
              "  0%|          | 0/5 [00:00<?, ?it/s]"
            ]
          },
          "metadata": {},
          "output_type": "display_data"
        },
        {
          "data": {
            "application/vnd.jupyter.widget-view+json": {
              "model_id": "cbf17770794f44018a497404dcdc94c1",
              "version_major": 2,
              "version_minor": 0
            },
            "text/plain": [
              "  0%|          | 0/150 [00:00<?, ?it/s]"
            ]
          },
          "metadata": {},
          "output_type": "display_data"
        },
        {
          "name": "stdout",
          "output_type": "stream",
          "text": [
            "1/1 [==============================] - 0s 115ms/step\n",
            "Testing accuracy: 0.9837499856948853\n"
          ]
        },
        {
          "data": {
            "application/vnd.jupyter.widget-view+json": {
              "model_id": "32bf78b72f874fd9b87053ad8e1b53de",
              "version_major": 2,
              "version_minor": 0
            },
            "text/plain": [
              "  0%|          | 0/150 [00:00<?, ?it/s]"
            ]
          },
          "metadata": {},
          "output_type": "display_data"
        },
        {
          "ename": "KeyboardInterrupt",
          "evalue": "",
          "output_type": "error",
          "traceback": [
            "\u001b[0;31m---------------------------------------------------------------------------\u001b[0m",
            "\u001b[0;31mKeyboardInterrupt\u001b[0m                         Traceback (most recent call last)",
            "Cell \u001b[0;32mIn[26], line 66\u001b[0m\n\u001b[1;32m     56\u001b[0m x_train, y_train \u001b[38;5;241m=\u001b[39m get_frame(\n\u001b[1;32m     57\u001b[0m     df\u001b[38;5;241m=\u001b[39mtrain_data,\n\u001b[1;32m     58\u001b[0m     window_size\u001b[38;5;241m=\u001b[39mwindow_size,\n\u001b[1;32m     59\u001b[0m     window_per_epoch\u001b[38;5;241m=\u001b[39mwindow_per_epoch,\n\u001b[1;32m     60\u001b[0m )\n\u001b[1;32m     61\u001b[0m x_val, y_val \u001b[38;5;241m=\u001b[39m get_frame(\n\u001b[1;32m     62\u001b[0m     df\u001b[38;5;241m=\u001b[39mval_data,\n\u001b[1;32m     63\u001b[0m     window_size\u001b[38;5;241m=\u001b[39mwindow_size,\n\u001b[1;32m     64\u001b[0m     window_per_epoch\u001b[38;5;241m=\u001b[39mwindow_per_epoch,\n\u001b[1;32m     65\u001b[0m )\n\u001b[0;32m---> 66\u001b[0m \u001b[43mgc\u001b[49m\u001b[38;5;241;43m.\u001b[39;49m\u001b[43mcollect\u001b[49m\u001b[43m(\u001b[49m\u001b[43m)\u001b[49m\n\u001b[1;32m     68\u001b[0m \u001b[38;5;66;03m# Create datasets and use them to train the model. Finally, collect metrics.\u001b[39;00m\n\u001b[1;32m     69\u001b[0m train_ds \u001b[38;5;241m=\u001b[39m tf\u001b[38;5;241m.\u001b[39mdata\u001b[38;5;241m.\u001b[39mDataset\u001b[38;5;241m.\u001b[39mfrom_tensor_slices((x_train, y_train))\u001b[38;5;241m.\u001b[39mbatch(\n\u001b[1;32m     70\u001b[0m     batch_size\n\u001b[1;32m     71\u001b[0m )\n",
            "\u001b[0;31mKeyboardInterrupt\u001b[0m: "
          ]
        },
        {
          "data": {
            "image/png": "[encoded data removed]",
            "text/plain": [
              "<Figure size 640x480 with 2 Axes>"
            ]
          },
          "metadata": {},
          "output_type": "display_data"
        },
        {
          "data": {
            "image/png": "[encoded data removed]",
            "text/plain": [
              "<Figure size 640x480 with 2 Axes>"
            ]
          },
          "metadata": {},
          "output_type": "display_data"
        }
      ],
      "source": [
        "import logging\n",
        "\n",
        "import keras\n",
        "from custom_model import CowModel\n",
        "from inference import Inference\n",
        "from tqdm.notebook import tqdm\n",
        "from utils import get_frame, get_sequential_frame, plot_confusion_matrix\n",
        "\n",
        "# random.seed(715) # 715 looks good.\n",
        "random.seed(785)  # 785 makes \"other\" looks bad, otherwise is good.\n",
        "\n",
        "all_cm: list[np.ndarray] = []\n",
        "\n",
        "# for cow in train_val_cows:\n",
        "for c in tqdm(range(len(selected_cows))):\n",
        "    # Create a new set of metrics, a new model and a new inference engine for each\n",
        "    # fold iteration.\n",
        "    accumulated_metrics: dict[str, list] = {\n",
        "        \"train_loss\": [],\n",
        "        \"train_accuracy\": [],\n",
        "        \"val_loss\": [],\n",
        "        \"val_accuracy\": [],\n",
        "    }\n",
        "    model: keras.Model = CowModel(output_dim=len(existing_types))\n",
        "    engine: Inference = Inference(\n",
        "        model=model,\n",
        "        loss_function=keras.losses.SparseCategoricalCrossentropy(from_logits=True),\n",
        "        loss_metric=keras.metrics.Mean(),\n",
        "        optimizer=keras.optimizers.Adam(),\n",
        "        accuracy=keras.metrics.SparseCategoricalAccuracy(),\n",
        "        batch_size=32,\n",
        "    )\n",
        "\n",
        "    # Select cows for training and testing then build datasets.\n",
        "    train_cows: list\n",
        "    if validating_data_in_training:\n",
        "        train_cows = selected_cows.copy()\n",
        "    else:\n",
        "        train_cows = list(filter(lambda x: (x != selected_cows[c]), selected_cows))\n",
        "    val_cows: list = list(filter(lambda x: (x == selected_cows[c]), selected_cows))\n",
        "\n",
        "    train_data: pd.DataFrame = pd.concat(\n",
        "        objs=[folds[i] for i in train_cows],\n",
        "        ignore_index=True,\n",
        "        sort=True,\n",
        "    )\n",
        "    val_data: pd.DataFrame = pd.concat(\n",
        "        objs=[folds[i] for i in val_cows],\n",
        "        ignore_index=True,\n",
        "        sort=True,\n",
        "    )\n",
        "\n",
        "    # Train, validate and collect metrics.\n",
        "    for i in tqdm(range(epoch), leave=False):\n",
        "        # Generate frames for training and testing dataset.\n",
        "        x_train, y_train = get_frame(\n",
        "            df=train_data,\n",
        "            window_size=window_size,\n",
        "            window_per_epoch=window_per_epoch,\n",
        "        )\n",
        "        x_val, y_val = get_frame(\n",
        "            df=val_data,\n",
        "            window_size=window_size,\n",
        "            window_per_epoch=window_per_epoch,\n",
        "        )\n",
        "        gc.collect()\n",
        "\n",
        "        # Create datasets and use them to train the model. Finally, collect metrics.\n",
        "        train_ds = tf.data.Dataset.from_tensor_slices((x_train, y_train)).batch(\n",
        "            batch_size\n",
        "        )\n",
        "        validate_ds = tf.data.Dataset.from_tensor_slices((x_val, y_val)).batch(\n",
        "            batch_size\n",
        "        )\n",
        "        metrics: dict[str, list] = engine.train_val(\n",
        "            train_data=train_ds,\n",
        "            val_data=validate_ds,\n",
        "            epoch=1,\n",
        "        )\n",
        "        accumulated_metrics[\"train_loss\"].extend(metrics[\"train_loss\"])\n",
        "        accumulated_metrics[\"train_accuracy\"].extend(metrics[\"train_accuracy\"])\n",
        "        accumulated_metrics[\"val_loss\"].extend(metrics[\"val_loss\"])\n",
        "        accumulated_metrics[\"val_accuracy\"].extend(metrics[\"val_accuracy\"])\n",
        "\n",
        "    # Test the model with the current fold.\n",
        "    x_test, y_test = get_sequential_frame(\n",
        "        df=val_data,\n",
        "        window_size=window_size,\n",
        "    )\n",
        "    test_ds = tf.data.Dataset.from_tensor_slices((x_test, y_test)).batch(batch_size)\n",
        "    test_result: dict = engine.test(test_data=test_ds)\n",
        "\n",
        "    # Flatten the windows to create the confusion matrix.\n",
        "    data: list = []\n",
        "    labels: list = []\n",
        "\n",
        "    for datum_batch, label_batch in test_ds:\n",
        "        data.append(datum_batch)\n",
        "        labels.append(label_batch)\n",
        "\n",
        "    # Process test results and output confusion matrices.\n",
        "    predict_data: np.ndarray = np.concatenate(data)\n",
        "    predict_labels: np.ndarray = np.concatenate(labels)\n",
        "    y_pred: np.ndarray = model.predict(predict_data)\n",
        "    y_test_cm: tf.Tensor = tf.reshape(\n",
        "        tensor=predict_labels,\n",
        "        shape=(-1),\n",
        "    )\n",
        "\n",
        "    y_pred_cm: tf.Tensor = (\n",
        "        tf.math.argmax(\n",
        "            y_pred,\n",
        "            axis=2,\n",
        "            output_type=tf.int64,\n",
        "        ),\n",
        "    )[0]\n",
        "    y_pred_cm = tf.reshape(\n",
        "        tensor=y_pred_cm,\n",
        "        shape=(-1),\n",
        "    )\n",
        "    title: str = \"\"\"\n",
        "        K-fold cross validation, windows with random starting points.\n",
        "        {} row in each {} window in each {} epoch.\n",
        "        Training cow(s): {}.\n",
        "        Validating cow(s): {}.\n",
        "    \"\"\".format(\n",
        "        window_size,\n",
        "        window_per_epoch,\n",
        "        epoch,\n",
        "        train_cows,\n",
        "        val_cows,\n",
        "    )\n",
        "\n",
        "    cm: np.ndarray = plot_confusion_matrix(\n",
        "        actual=y_test_cm,\n",
        "        pred=y_pred_cm,\n",
        "        unique_numerical_labels=unique_labels,\n",
        "        display_labels=existing_types,\n",
        "        normalize=\"true\",\n",
        "        title=title,\n",
        "        export=\"./out/{}/{}_cm.png\".format(selected_cows[c].lower(), selected_cows[c]),\n",
        "    )\n",
        "\n",
        "    all_cm.append(cm)\n",
        "\n",
        "    plot_confusion_matrix(\n",
        "        actual=y_test_cm,\n",
        "        pred=y_pred_cm,\n",
        "        unique_numerical_labels=unique_labels,\n",
        "        display_labels=existing_types,\n",
        "        normalize=None,\n",
        "        title=title,\n",
        "        export=\"./out/{}/{}_cm_raw.png\".format(\n",
        "            selected_cows[c].lower(), selected_cows[c]\n",
        "        ),\n",
        "    )\n",
        "\n",
        "    print(\"Testing accuracy: {}\".format(test_result[\"test_accuracy\"][0]))\n",
        "\n",
        "    gc.collect()"
      ]
    },
    {
      "cell_type": "code",
      "execution_count": null,
      "metadata": {
        "colab": {
          "base_uri": "https://localhost:8080/",
          "height": 472
        },
        "id": "m-cOZx8ogdpQ",
        "outputId": "f3d575d9-04f6-4cf3-8e9b-ae98957e6ca8"
      },
      "outputs": [
        {
          "data": {
            "image/png": "[encoded data removed]",
            "text/plain": [
              "<Figure size 640x480 with 2 Axes>"
            ]
          },
          "metadata": {},
          "output_type": "display_data"
        }
      ],
      "source": [
        "avg_conf: np.ndarray = np.mean(\n",
        "    a=all_cm,\n",
        "    axis=0,\n",
        ")\n",
        "\n",
        "fig, ax = plt.subplots()\n",
        "ax.set_title(label=\"Average confusion matrix\")\n",
        "cmd = ConfusionMatrixDisplay(avg_conf, display_labels=existing_types)\n",
        "cmd.plot(cmap=plt.cm.Blues, ax=ax, values_format=\".2f\")\n",
        "\n",
        "plt.savefig(\n",
        "    \"./avg_cm.png\",\n",
        "    bbox_inches=\"tight\",\n",
        ")"
      ]
    },
    {
      "cell_type": "code",
      "execution_count": null,
      "metadata": {
        "colab": {
          "base_uri": "https://localhost:8080/"
        },
        "id": "6Eqg0xNpgdpQ",
        "outputId": "4da07ac0-e4a8-4f83-a9f8-a3d22a87464b"
      },
      "outputs": [
        {
          "name": "stdout",
          "output_type": "stream",
          "text": [
            "(1218000,)\n",
            "(1218000,)\n"
          ]
        }
      ],
      "source": [
        "print(y_test_cm.shape)\n",
        "print(y_pred_cm.shape)"
      ]
    },
    {
      "cell_type": "code",
      "execution_count": null,
      "metadata": {
        "id": "Jrc6SrfDgdpR"
      },
      "outputs": [],
      "source": [
        "y_test_cm = tf.cast(\n",
        "    x=y_test_cm,\n",
        "    dtype=tf.int64,\n",
        ")\n",
        "# correct: int = 0\n",
        "# for pred, true in zip(y_pred_cm, y_test_cm):\n",
        "#     if pred == true:\n",
        "#         correct += 1\n",
        "\n",
        "# print(correct / len(y_pred_cm))"
      ]
    },
    {
      "cell_type": "code",
      "execution_count": null,
      "metadata": {
        "colab": {
          "base_uri": "https://localhost:8080/"
        },
        "id": "DGgTBLBEgdpR",
        "outputId": "095cbb1a-70b5-4893-d408-b14064bff7a8"
      },
      "outputs": [
        {
          "name": "stdout",
          "output_type": "stream",
          "text": [
            "2.9999998515118176e-07\n"
          ]
        }
      ],
      "source": [
        "scce: tf.keras.losses.Loss = tf.keras.losses.SparseCategoricalCrossentropy()\n",
        "y_true_test: np.ndarray = np.array(\n",
        "    [1],\n",
        "    dtype=np.int64,\n",
        ")\n",
        "y_pred_test: np.ndarray = np.array(\n",
        "    [\n",
        "        [0, 1, 0, 0],\n",
        "    ],\n",
        "    dtype=np.float64,\n",
        ")\n",
        "\n",
        "loss: tf.Tensor = scce(y_true_test, y_pred_test)\n",
        "print(loss.numpy())"
      ]
    }
  ],
  "metadata": {
    "colab": {
      "provenance": []
    },
    "kernelspec": {
      "display_name": "Python 3",
      "language": "python",
      "name": "python3"
    },
    "language_info": {
      "codemirror_mode": {
        "name": "ipython",
        "version": 3
      },
      "file_extension": ".py",
      "mimetype": "text/x-python",
      "name": "python",
      "nbconvert_exporter": "python",
      "pygments_lexer": "ipython3",
      "version": "3.9.18"
    },
    "widgets": {
      "application/vnd.jupyter.widget-state+json": {
        "069484a239b94675a93d42078b6d8799": {
          "model_module": "@jupyter-widgets/controls",
          "model_module_version": "1.5.0",
          "model_name": "DescriptionStyleModel",
          "state": {
            "_model_module": "@jupyter-widgets/controls",
            "_model_module_version": "1.5.0",
            "_model_name": "DescriptionStyleModel",
            "_view_count": null,
            "_view_module": "@jupyter-widgets/base",
            "_view_module_version": "1.2.0",
            "_view_name": "StyleView",
            "description_width": ""
          }
        },
        "07e9ba9be3af4c44ac7872289cb3d848": {
          "model_module": "@jupyter-widgets/controls",
          "model_module_version": "1.5.0",
          "model_name": "DescriptionStyleModel",
          "state": {
            "_model_module": "@jupyter-widgets/controls",
            "_model_module_version": "1.5.0",
            "_model_name": "DescriptionStyleModel",
            "_view_count": null,
            "_view_module": "@jupyter-widgets/base",
            "_view_module_version": "1.2.0",
            "_view_name": "StyleView",
            "description_width": ""
          }
        },
        "0e4776d4f3ea4e2cbb2cd47c5807899d": {
          "model_module": "@jupyter-widgets/controls",
          "model_module_version": "1.5.0",
          "model_name": "HTMLModel",
          "state": {
            "_dom_classes": [],
            "_model_module": "@jupyter-widgets/controls",
            "_model_module_version": "1.5.0",
            "_model_name": "HTMLModel",
            "_view_count": null,
            "_view_module": "@jupyter-widgets/controls",
            "_view_module_version": "1.5.0",
            "_view_name": "HTMLView",
            "description": "",
            "description_tooltip": null,
            "layout": "IPY_MODEL_f0a3960267ca45d9abadc8a6562a6484",
            "placeholder": "​",
            "style": "IPY_MODEL_960c73c75b7143ae9f76a22b98a937da",
            "value": " 150/150 [07:07&lt;00:00,  2.96s/it]"
          }
        },
        "179423883f1d424398cddce0c2994ac5": {
          "model_module": "@jupyter-widgets/controls",
          "model_module_version": "1.5.0",
          "model_name": "HTMLModel",
          "state": {
            "_dom_classes": [],
            "_model_module": "@jupyter-widgets/controls",
            "_model_module_version": "1.5.0",
            "_model_name": "HTMLModel",
            "_view_count": null,
            "_view_module": "@jupyter-widgets/controls",
            "_view_module_version": "1.5.0",
            "_view_name": "HTMLView",
            "description": "",
            "description_tooltip": null,
            "layout": "IPY_MODEL_8f735dfafe2642c38a96e470e6e662f9",
            "placeholder": "​",
            "style": "IPY_MODEL_e6a7fb83275f4b87a76f5a19dbaba0de",
            "value": "100%"
          }
        },
        "1b97b7d28d6c462589c6180608e72f72": {
          "model_module": "@jupyter-widgets/controls",
          "model_module_version": "1.5.0",
          "model_name": "DescriptionStyleModel",
          "state": {
            "_model_module": "@jupyter-widgets/controls",
            "_model_module_version": "1.5.0",
            "_model_name": "DescriptionStyleModel",
            "_view_count": null,
            "_view_module": "@jupyter-widgets/base",
            "_view_module_version": "1.2.0",
            "_view_name": "StyleView",
            "description_width": ""
          }
        },
        "2166c7d59ff440a388bb71b4a7cd8d02": {
          "model_module": "@jupyter-widgets/controls",
          "model_module_version": "1.5.0",
          "model_name": "ProgressStyleModel",
          "state": {
            "_model_module": "@jupyter-widgets/controls",
            "_model_module_version": "1.5.0",
            "_model_name": "ProgressStyleModel",
            "_view_count": null,
            "_view_module": "@jupyter-widgets/base",
            "_view_module_version": "1.2.0",
            "_view_name": "StyleView",
            "bar_color": null,
            "description_width": ""
          }
        },
        "25c0e9644195425f93e062c161da78bd": {
          "model_module": "@jupyter-widgets/controls",
          "model_module_version": "1.5.0",
          "model_name": "HTMLModel",
          "state": {
            "_dom_classes": [],
            "_model_module": "@jupyter-widgets/controls",
            "_model_module_version": "1.5.0",
            "_model_name": "HTMLModel",
            "_view_count": null,
            "_view_module": "@jupyter-widgets/controls",
            "_view_module_version": "1.5.0",
            "_view_name": "HTMLView",
            "description": "",
            "description_tooltip": null,
            "layout": "IPY_MODEL_bb556073daad4ad2af103fc199f3822d",
            "placeholder": "​",
            "style": "IPY_MODEL_1b97b7d28d6c462589c6180608e72f72",
            "value": "100%"
          }
        },
        "25c4932fd3f2476cbf6093f19a96d468": {
          "model_module": "@jupyter-widgets/controls",
          "model_module_version": "1.5.0",
          "model_name": "DescriptionStyleModel",
          "state": {
            "_model_module": "@jupyter-widgets/controls",
            "_model_module_version": "1.5.0",
            "_model_name": "DescriptionStyleModel",
            "_view_count": null,
            "_view_module": "@jupyter-widgets/base",
            "_view_module_version": "1.2.0",
            "_view_name": "StyleView",
            "description_width": ""
          }
        },
        "261edf7443ba4c05b229603d209d2624": {
          "model_module": "@jupyter-widgets/base",
          "model_module_version": "1.2.0",
          "model_name": "LayoutModel",
          "state": {
            "_model_module": "@jupyter-widgets/base",
            "_model_module_version": "1.2.0",
            "_model_name": "LayoutModel",
            "_view_count": null,
            "_view_module": "@jupyter-widgets/base",
            "_view_module_version": "1.2.0",
            "_view_name": "LayoutView",
            "align_content": null,
            "align_items": null,
            "align_self": null,
            "border": null,
            "bottom": null,
            "display": null,
            "flex": null,
            "flex_flow": null,
            "grid_area": null,
            "grid_auto_columns": null,
            "grid_auto_flow": null,
            "grid_auto_rows": null,
            "grid_column": null,
            "grid_gap": null,
            "grid_row": null,
            "grid_template_areas": null,
            "grid_template_columns": null,
            "grid_template_rows": null,
            "height": null,
            "justify_content": null,
            "justify_items": null,
            "left": null,
            "margin": null,
            "max_height": null,
            "max_width": null,
            "min_height": null,
            "min_width": null,
            "object_fit": null,
            "object_position": null,
            "order": null,
            "overflow": null,
            "overflow_x": null,
            "overflow_y": null,
            "padding": null,
            "right": null,
            "top": null,
            "visibility": null,
            "width": null
          }
        },
        "281d15cc520f469eaeb4f661d5ae1b9b": {
          "model_module": "@jupyter-widgets/controls",
          "model_module_version": "1.5.0",
          "model_name": "ProgressStyleModel",
          "state": {
            "_model_module": "@jupyter-widgets/controls",
            "_model_module_version": "1.5.0",
            "_model_name": "ProgressStyleModel",
            "_view_count": null,
            "_view_module": "@jupyter-widgets/base",
            "_view_module_version": "1.2.0",
            "_view_name": "StyleView",
            "bar_color": null,
            "description_width": ""
          }
        },
        "29f7cac9021c40018a7a6ee1df340c25": {
          "model_module": "@jupyter-widgets/controls",
          "model_module_version": "1.5.0",
          "model_name": "ProgressStyleModel",
          "state": {
            "_model_module": "@jupyter-widgets/controls",
            "_model_module_version": "1.5.0",
            "_model_name": "ProgressStyleModel",
            "_view_count": null,
            "_view_module": "@jupyter-widgets/base",
            "_view_module_version": "1.2.0",
            "_view_name": "StyleView",
            "bar_color": null,
            "description_width": ""
          }
        },
        "2c99940fc0184fb4b3cf62186235540c": {
          "model_module": "@jupyter-widgets/controls",
          "model_module_version": "1.5.0",
          "model_name": "HBoxModel",
          "state": {
            "_dom_classes": [],
            "_model_module": "@jupyter-widgets/controls",
            "_model_module_version": "1.5.0",
            "_model_name": "HBoxModel",
            "_view_count": null,
            "_view_module": "@jupyter-widgets/controls",
            "_view_module_version": "1.5.0",
            "_view_name": "HBoxView",
            "box_style": "",
            "children": [
              "IPY_MODEL_2d85a809496341eba3ea42b44bb89d39",
              "IPY_MODEL_92245b10424d470e9d9e4ed5ee1aa401",
              "IPY_MODEL_665e91c877484a7aaa9a1b7a291d55cb"
            ],
            "layout": "IPY_MODEL_556669c418704d6a94ad0ef62e109585"
          }
        },
        "2d57029ac99941798896e3c0e14b97e8": {
          "model_module": "@jupyter-widgets/controls",
          "model_module_version": "1.5.0",
          "model_name": "DescriptionStyleModel",
          "state": {
            "_model_module": "@jupyter-widgets/controls",
            "_model_module_version": "1.5.0",
            "_model_name": "DescriptionStyleModel",
            "_view_count": null,
            "_view_module": "@jupyter-widgets/base",
            "_view_module_version": "1.2.0",
            "_view_name": "StyleView",
            "description_width": ""
          }
        },
        "2d85a809496341eba3ea42b44bb89d39": {
          "model_module": "@jupyter-widgets/controls",
          "model_module_version": "1.5.0",
          "model_name": "HTMLModel",
          "state": {
            "_dom_classes": [],
            "_model_module": "@jupyter-widgets/controls",
            "_model_module_version": "1.5.0",
            "_model_name": "HTMLModel",
            "_view_count": null,
            "_view_module": "@jupyter-widgets/controls",
            "_view_module_version": "1.5.0",
            "_view_name": "HTMLView",
            "description": "",
            "description_tooltip": null,
            "layout": "IPY_MODEL_96209cfe5397457d9ade9e39ff23ad2e",
            "placeholder": "​",
            "style": "IPY_MODEL_8ee17479cc424e9e97f77570e428ce0a",
            "value": "100%"
          }
        },
        "2f77d1b9549242e8bca055f48a384a5f": {
          "model_module": "@jupyter-widgets/controls",
          "model_module_version": "1.5.0",
          "model_name": "DescriptionStyleModel",
          "state": {
            "_model_module": "@jupyter-widgets/controls",
            "_model_module_version": "1.5.0",
            "_model_name": "DescriptionStyleModel",
            "_view_count": null,
            "_view_module": "@jupyter-widgets/base",
            "_view_module_version": "1.2.0",
            "_view_name": "StyleView",
            "description_width": ""
          }
        },
        "32e09b2b331d42f8a5201c54572c9879": {
          "model_module": "@jupyter-widgets/base",
          "model_module_version": "1.2.0",
          "model_name": "LayoutModel",
          "state": {
            "_model_module": "@jupyter-widgets/base",
            "_model_module_version": "1.2.0",
            "_model_name": "LayoutModel",
            "_view_count": null,
            "_view_module": "@jupyter-widgets/base",
            "_view_module_version": "1.2.0",
            "_view_name": "LayoutView",
            "align_content": null,
            "align_items": null,
            "align_self": null,
            "border": null,
            "bottom": null,
            "display": null,
            "flex": null,
            "flex_flow": null,
            "grid_area": null,
            "grid_auto_columns": null,
            "grid_auto_flow": null,
            "grid_auto_rows": null,
            "grid_column": null,
            "grid_gap": null,
            "grid_row": null,
            "grid_template_areas": null,
            "grid_template_columns": null,
            "grid_template_rows": null,
            "height": null,
            "justify_content": null,
            "justify_items": null,
            "left": null,
            "margin": null,
            "max_height": null,
            "max_width": null,
            "min_height": null,
            "min_width": null,
            "object_fit": null,
            "object_position": null,
            "order": null,
            "overflow": null,
            "overflow_x": null,
            "overflow_y": null,
            "padding": null,
            "right": null,
            "top": null,
            "visibility": null,
            "width": null
          }
        },
        "34565de13e204a4c88fc1fd459886f57": {
          "model_module": "@jupyter-widgets/controls",
          "model_module_version": "1.5.0",
          "model_name": "HTMLModel",
          "state": {
            "_dom_classes": [],
            "_model_module": "@jupyter-widgets/controls",
            "_model_module_version": "1.5.0",
            "_model_name": "HTMLModel",
            "_view_count": null,
            "_view_module": "@jupyter-widgets/controls",
            "_view_module_version": "1.5.0",
            "_view_name": "HTMLView",
            "description": "",
            "description_tooltip": null,
            "layout": "IPY_MODEL_57716c6d96c94a5c8d9cb1e1d6adb257",
            "placeholder": "​",
            "style": "IPY_MODEL_069484a239b94675a93d42078b6d8799",
            "value": " 5/5 [36:07&lt;00:00, 435.88s/it]"
          }
        },
        "37880076732e4753a1e191375b35f5af": {
          "model_module": "@jupyter-widgets/controls",
          "model_module_version": "1.5.0",
          "model_name": "ProgressStyleModel",
          "state": {
            "_model_module": "@jupyter-widgets/controls",
            "_model_module_version": "1.5.0",
            "_model_name": "ProgressStyleModel",
            "_view_count": null,
            "_view_module": "@jupyter-widgets/base",
            "_view_module_version": "1.2.0",
            "_view_name": "StyleView",
            "bar_color": null,
            "description_width": ""
          }
        },
        "379713d256b04713b1c3310786a5030f": {
          "model_module": "@jupyter-widgets/base",
          "model_module_version": "1.2.0",
          "model_name": "LayoutModel",
          "state": {
            "_model_module": "@jupyter-widgets/base",
            "_model_module_version": "1.2.0",
            "_model_name": "LayoutModel",
            "_view_count": null,
            "_view_module": "@jupyter-widgets/base",
            "_view_module_version": "1.2.0",
            "_view_name": "LayoutView",
            "align_content": null,
            "align_items": null,
            "align_self": null,
            "border": null,
            "bottom": null,
            "display": null,
            "flex": null,
            "flex_flow": null,
            "grid_area": null,
            "grid_auto_columns": null,
            "grid_auto_flow": null,
            "grid_auto_rows": null,
            "grid_column": null,
            "grid_gap": null,
            "grid_row": null,
            "grid_template_areas": null,
            "grid_template_columns": null,
            "grid_template_rows": null,
            "height": null,
            "justify_content": null,
            "justify_items": null,
            "left": null,
            "margin": null,
            "max_height": null,
            "max_width": null,
            "min_height": null,
            "min_width": null,
            "object_fit": null,
            "object_position": null,
            "order": null,
            "overflow": null,
            "overflow_x": null,
            "overflow_y": null,
            "padding": null,
            "right": null,
            "top": null,
            "visibility": "hidden",
            "width": null
          }
        },
        "39154f5ae6ce4f5bb15a36668469d4e4": {
          "model_module": "@jupyter-widgets/controls",
          "model_module_version": "1.5.0",
          "model_name": "FloatProgressModel",
          "state": {
            "_dom_classes": [],
            "_model_module": "@jupyter-widgets/controls",
            "_model_module_version": "1.5.0",
            "_model_name": "FloatProgressModel",
            "_view_count": null,
            "_view_module": "@jupyter-widgets/controls",
            "_view_module_version": "1.5.0",
            "_view_name": "ProgressView",
            "bar_style": "success",
            "description": "",
            "description_tooltip": null,
            "layout": "IPY_MODEL_c489ab06ffd84835a25d9caf791e6fe2",
            "max": 5,
            "min": 0,
            "orientation": "horizontal",
            "style": "IPY_MODEL_37880076732e4753a1e191375b35f5af",
            "value": 5
          }
        },
        "3c7822d7fe48476d9fc433588f544087": {
          "model_module": "@jupyter-widgets/controls",
          "model_module_version": "1.5.0",
          "model_name": "HBoxModel",
          "state": {
            "_dom_classes": [],
            "_model_module": "@jupyter-widgets/controls",
            "_model_module_version": "1.5.0",
            "_model_name": "HBoxModel",
            "_view_count": null,
            "_view_module": "@jupyter-widgets/controls",
            "_view_module_version": "1.5.0",
            "_view_name": "HBoxView",
            "box_style": "",
            "children": [
              "IPY_MODEL_7b51f3708c8b468ba2b8f88121f40dbd",
              "IPY_MODEL_39154f5ae6ce4f5bb15a36668469d4e4",
              "IPY_MODEL_34565de13e204a4c88fc1fd459886f57"
            ],
            "layout": "IPY_MODEL_57153ed26fc9412b83daf621c542c55b"
          }
        },
        "3fc1d9ab9bfd4ec6a0ffca86ef03c65f": {
          "model_module": "@jupyter-widgets/base",
          "model_module_version": "1.2.0",
          "model_name": "LayoutModel",
          "state": {
            "_model_module": "@jupyter-widgets/base",
            "_model_module_version": "1.2.0",
            "_model_name": "LayoutModel",
            "_view_count": null,
            "_view_module": "@jupyter-widgets/base",
            "_view_module_version": "1.2.0",
            "_view_name": "LayoutView",
            "align_content": null,
            "align_items": null,
            "align_self": null,
            "border": null,
            "bottom": null,
            "display": null,
            "flex": null,
            "flex_flow": null,
            "grid_area": null,
            "grid_auto_columns": null,
            "grid_auto_flow": null,
            "grid_auto_rows": null,
            "grid_column": null,
            "grid_gap": null,
            "grid_row": null,
            "grid_template_areas": null,
            "grid_template_columns": null,
            "grid_template_rows": null,
            "height": null,
            "justify_content": null,
            "justify_items": null,
            "left": null,
            "margin": null,
            "max_height": null,
            "max_width": null,
            "min_height": null,
            "min_width": null,
            "object_fit": null,
            "object_position": null,
            "order": null,
            "overflow": null,
            "overflow_x": null,
            "overflow_y": null,
            "padding": null,
            "right": null,
            "top": null,
            "visibility": null,
            "width": null
          }
        },
        "42d134fd03ed45d4a534304d459297af": {
          "model_module": "@jupyter-widgets/base",
          "model_module_version": "1.2.0",
          "model_name": "LayoutModel",
          "state": {
            "_model_module": "@jupyter-widgets/base",
            "_model_module_version": "1.2.0",
            "_model_name": "LayoutModel",
            "_view_count": null,
            "_view_module": "@jupyter-widgets/base",
            "_view_module_version": "1.2.0",
            "_view_name": "LayoutView",
            "align_content": null,
            "align_items": null,
            "align_self": null,
            "border": null,
            "bottom": null,
            "display": null,
            "flex": null,
            "flex_flow": null,
            "grid_area": null,
            "grid_auto_columns": null,
            "grid_auto_flow": null,
            "grid_auto_rows": null,
            "grid_column": null,
            "grid_gap": null,
            "grid_row": null,
            "grid_template_areas": null,
            "grid_template_columns": null,
            "grid_template_rows": null,
            "height": null,
            "justify_content": null,
            "justify_items": null,
            "left": null,
            "margin": null,
            "max_height": null,
            "max_width": null,
            "min_height": null,
            "min_width": null,
            "object_fit": null,
            "object_position": null,
            "order": null,
            "overflow": null,
            "overflow_x": null,
            "overflow_y": null,
            "padding": null,
            "right": null,
            "top": null,
            "visibility": "hidden",
            "width": null
          }
        },
        "45fb95ec78364e20836ca7a3ebbb9fd8": {
          "model_module": "@jupyter-widgets/base",
          "model_module_version": "1.2.0",
          "model_name": "LayoutModel",
          "state": {
            "_model_module": "@jupyter-widgets/base",
            "_model_module_version": "1.2.0",
            "_model_name": "LayoutModel",
            "_view_count": null,
            "_view_module": "@jupyter-widgets/base",
            "_view_module_version": "1.2.0",
            "_view_name": "LayoutView",
            "align_content": null,
            "align_items": null,
            "align_self": null,
            "border": null,
            "bottom": null,
            "display": null,
            "flex": null,
            "flex_flow": null,
            "grid_area": null,
            "grid_auto_columns": null,
            "grid_auto_flow": null,
            "grid_auto_rows": null,
            "grid_column": null,
            "grid_gap": null,
            "grid_row": null,
            "grid_template_areas": null,
            "grid_template_columns": null,
            "grid_template_rows": null,
            "height": null,
            "justify_content": null,
            "justify_items": null,
            "left": null,
            "margin": null,
            "max_height": null,
            "max_width": null,
            "min_height": null,
            "min_width": null,
            "object_fit": null,
            "object_position": null,
            "order": null,
            "overflow": null,
            "overflow_x": null,
            "overflow_y": null,
            "padding": null,
            "right": null,
            "top": null,
            "visibility": null,
            "width": null
          }
        },
        "47ff653c99724c16a1acd0cdca9ebd45": {
          "model_module": "@jupyter-widgets/base",
          "model_module_version": "1.2.0",
          "model_name": "LayoutModel",
          "state": {
            "_model_module": "@jupyter-widgets/base",
            "_model_module_version": "1.2.0",
            "_model_name": "LayoutModel",
            "_view_count": null,
            "_view_module": "@jupyter-widgets/base",
            "_view_module_version": "1.2.0",
            "_view_name": "LayoutView",
            "align_content": null,
            "align_items": null,
            "align_self": null,
            "border": null,
            "bottom": null,
            "display": null,
            "flex": null,
            "flex_flow": null,
            "grid_area": null,
            "grid_auto_columns": null,
            "grid_auto_flow": null,
            "grid_auto_rows": null,
            "grid_column": null,
            "grid_gap": null,
            "grid_row": null,
            "grid_template_areas": null,
            "grid_template_columns": null,
            "grid_template_rows": null,
            "height": null,
            "justify_content": null,
            "justify_items": null,
            "left": null,
            "margin": null,
            "max_height": null,
            "max_width": null,
            "min_height": null,
            "min_width": null,
            "object_fit": null,
            "object_position": null,
            "order": null,
            "overflow": null,
            "overflow_x": null,
            "overflow_y": null,
            "padding": null,
            "right": null,
            "top": null,
            "visibility": null,
            "width": null
          }
        },
        "4d664337a5ba49c8b41a2d75a7b21533": {
          "model_module": "@jupyter-widgets/controls",
          "model_module_version": "1.5.0",
          "model_name": "HTMLModel",
          "state": {
            "_dom_classes": [],
            "_model_module": "@jupyter-widgets/controls",
            "_model_module_version": "1.5.0",
            "_model_name": "HTMLModel",
            "_view_count": null,
            "_view_module": "@jupyter-widgets/controls",
            "_view_module_version": "1.5.0",
            "_view_name": "HTMLView",
            "description": "",
            "description_tooltip": null,
            "layout": "IPY_MODEL_261edf7443ba4c05b229603d209d2624",
            "placeholder": "​",
            "style": "IPY_MODEL_845385ea6ffb4dbaac85898e1ffddb01",
            "value": "100%"
          }
        },
        "4efa426a8fcd4a28af59c3ac4c28249a": {
          "model_module": "@jupyter-widgets/controls",
          "model_module_version": "1.5.0",
          "model_name": "FloatProgressModel",
          "state": {
            "_dom_classes": [],
            "_model_module": "@jupyter-widgets/controls",
            "_model_module_version": "1.5.0",
            "_model_name": "FloatProgressModel",
            "_view_count": null,
            "_view_module": "@jupyter-widgets/controls",
            "_view_module_version": "1.5.0",
            "_view_name": "ProgressView",
            "bar_style": "",
            "description": "",
            "description_tooltip": null,
            "layout": "IPY_MODEL_47ff653c99724c16a1acd0cdca9ebd45",
            "max": 150,
            "min": 0,
            "orientation": "horizontal",
            "style": "IPY_MODEL_29f7cac9021c40018a7a6ee1df340c25",
            "value": 150
          }
        },
        "512b4ff091524d458da1c5ba9ec90e37": {
          "model_module": "@jupyter-widgets/controls",
          "model_module_version": "1.5.0",
          "model_name": "HTMLModel",
          "state": {
            "_dom_classes": [],
            "_model_module": "@jupyter-widgets/controls",
            "_model_module_version": "1.5.0",
            "_model_name": "HTMLModel",
            "_view_count": null,
            "_view_module": "@jupyter-widgets/controls",
            "_view_module_version": "1.5.0",
            "_view_name": "HTMLView",
            "description": "",
            "description_tooltip": null,
            "layout": "IPY_MODEL_45fb95ec78364e20836ca7a3ebbb9fd8",
            "placeholder": "​",
            "style": "IPY_MODEL_2d57029ac99941798896e3c0e14b97e8",
            "value": "100%"
          }
        },
        "54c135b11d19412abc8336e2b6c72c3a": {
          "model_module": "@jupyter-widgets/controls",
          "model_module_version": "1.5.0",
          "model_name": "FloatProgressModel",
          "state": {
            "_dom_classes": [],
            "_model_module": "@jupyter-widgets/controls",
            "_model_module_version": "1.5.0",
            "_model_name": "FloatProgressModel",
            "_view_count": null,
            "_view_module": "@jupyter-widgets/controls",
            "_view_module_version": "1.5.0",
            "_view_name": "ProgressView",
            "bar_style": "",
            "description": "",
            "description_tooltip": null,
            "layout": "IPY_MODEL_fe8de6a5c4b24c77a00332b5e2f258f3",
            "max": 150,
            "min": 0,
            "orientation": "horizontal",
            "style": "IPY_MODEL_9319e8416f90467290606193db7f8562",
            "value": 150
          }
        },
        "556669c418704d6a94ad0ef62e109585": {
          "model_module": "@jupyter-widgets/base",
          "model_module_version": "1.2.0",
          "model_name": "LayoutModel",
          "state": {
            "_model_module": "@jupyter-widgets/base",
            "_model_module_version": "1.2.0",
            "_model_name": "LayoutModel",
            "_view_count": null,
            "_view_module": "@jupyter-widgets/base",
            "_view_module_version": "1.2.0",
            "_view_name": "LayoutView",
            "align_content": null,
            "align_items": null,
            "align_self": null,
            "border": null,
            "bottom": null,
            "display": null,
            "flex": null,
            "flex_flow": null,
            "grid_area": null,
            "grid_auto_columns": null,
            "grid_auto_flow": null,
            "grid_auto_rows": null,
            "grid_column": null,
            "grid_gap": null,
            "grid_row": null,
            "grid_template_areas": null,
            "grid_template_columns": null,
            "grid_template_rows": null,
            "height": null,
            "justify_content": null,
            "justify_items": null,
            "left": null,
            "margin": null,
            "max_height": null,
            "max_width": null,
            "min_height": null,
            "min_width": null,
            "object_fit": null,
            "object_position": null,
            "order": null,
            "overflow": null,
            "overflow_x": null,
            "overflow_y": null,
            "padding": null,
            "right": null,
            "top": null,
            "visibility": "hidden",
            "width": null
          }
        },
        "57153ed26fc9412b83daf621c542c55b": {
          "model_module": "@jupyter-widgets/base",
          "model_module_version": "1.2.0",
          "model_name": "LayoutModel",
          "state": {
            "_model_module": "@jupyter-widgets/base",
            "_model_module_version": "1.2.0",
            "_model_name": "LayoutModel",
            "_view_count": null,
            "_view_module": "@jupyter-widgets/base",
            "_view_module_version": "1.2.0",
            "_view_name": "LayoutView",
            "align_content": null,
            "align_items": null,
            "align_self": null,
            "border": null,
            "bottom": null,
            "display": null,
            "flex": null,
            "flex_flow": null,
            "grid_area": null,
            "grid_auto_columns": null,
            "grid_auto_flow": null,
            "grid_auto_rows": null,
            "grid_column": null,
            "grid_gap": null,
            "grid_row": null,
            "grid_template_areas": null,
            "grid_template_columns": null,
            "grid_template_rows": null,
            "height": null,
            "justify_content": null,
            "justify_items": null,
            "left": null,
            "margin": null,
            "max_height": null,
            "max_width": null,
            "min_height": null,
            "min_width": null,
            "object_fit": null,
            "object_position": null,
            "order": null,
            "overflow": null,
            "overflow_x": null,
            "overflow_y": null,
            "padding": null,
            "right": null,
            "top": null,
            "visibility": null,
            "width": null
          }
        },
        "57716c6d96c94a5c8d9cb1e1d6adb257": {
          "model_module": "@jupyter-widgets/base",
          "model_module_version": "1.2.0",
          "model_name": "LayoutModel",
          "state": {
            "_model_module": "@jupyter-widgets/base",
            "_model_module_version": "1.2.0",
            "_model_name": "LayoutModel",
            "_view_count": null,
            "_view_module": "@jupyter-widgets/base",
            "_view_module_version": "1.2.0",
            "_view_name": "LayoutView",
            "align_content": null,
            "align_items": null,
            "align_self": null,
            "border": null,
            "bottom": null,
            "display": null,
            "flex": null,
            "flex_flow": null,
            "grid_area": null,
            "grid_auto_columns": null,
            "grid_auto_flow": null,
            "grid_auto_rows": null,
            "grid_column": null,
            "grid_gap": null,
            "grid_row": null,
            "grid_template_areas": null,
            "grid_template_columns": null,
            "grid_template_rows": null,
            "height": null,
            "justify_content": null,
            "justify_items": null,
            "left": null,
            "margin": null,
            "max_height": null,
            "max_width": null,
            "min_height": null,
            "min_width": null,
            "object_fit": null,
            "object_position": null,
            "order": null,
            "overflow": null,
            "overflow_x": null,
            "overflow_y": null,
            "padding": null,
            "right": null,
            "top": null,
            "visibility": null,
            "width": null
          }
        },
        "58de261f45024ab1a4ea4bf768846479": {
          "model_module": "@jupyter-widgets/base",
          "model_module_version": "1.2.0",
          "model_name": "LayoutModel",
          "state": {
            "_model_module": "@jupyter-widgets/base",
            "_model_module_version": "1.2.0",
            "_model_name": "LayoutModel",
            "_view_count": null,
            "_view_module": "@jupyter-widgets/base",
            "_view_module_version": "1.2.0",
            "_view_name": "LayoutView",
            "align_content": null,
            "align_items": null,
            "align_self": null,
            "border": null,
            "bottom": null,
            "display": null,
            "flex": null,
            "flex_flow": null,
            "grid_area": null,
            "grid_auto_columns": null,
            "grid_auto_flow": null,
            "grid_auto_rows": null,
            "grid_column": null,
            "grid_gap": null,
            "grid_row": null,
            "grid_template_areas": null,
            "grid_template_columns": null,
            "grid_template_rows": null,
            "height": null,
            "justify_content": null,
            "justify_items": null,
            "left": null,
            "margin": null,
            "max_height": null,
            "max_width": null,
            "min_height": null,
            "min_width": null,
            "object_fit": null,
            "object_position": null,
            "order": null,
            "overflow": null,
            "overflow_x": null,
            "overflow_y": null,
            "padding": null,
            "right": null,
            "top": null,
            "visibility": "hidden",
            "width": null
          }
        },
        "5a92f653168d44d68f191f3649419ed1": {
          "model_module": "@jupyter-widgets/controls",
          "model_module_version": "1.5.0",
          "model_name": "ProgressStyleModel",
          "state": {
            "_model_module": "@jupyter-widgets/controls",
            "_model_module_version": "1.5.0",
            "_model_name": "ProgressStyleModel",
            "_view_count": null,
            "_view_module": "@jupyter-widgets/base",
            "_view_module_version": "1.2.0",
            "_view_name": "StyleView",
            "bar_color": null,
            "description_width": ""
          }
        },
        "5dc19a4a21754632bac5ad8063fba7d0": {
          "model_module": "@jupyter-widgets/controls",
          "model_module_version": "1.5.0",
          "model_name": "HBoxModel",
          "state": {
            "_dom_classes": [],
            "_model_module": "@jupyter-widgets/controls",
            "_model_module_version": "1.5.0",
            "_model_name": "HBoxModel",
            "_view_count": null,
            "_view_module": "@jupyter-widgets/controls",
            "_view_module_version": "1.5.0",
            "_view_name": "HBoxView",
            "box_style": "",
            "children": [
              "IPY_MODEL_4d664337a5ba49c8b41a2d75a7b21533",
              "IPY_MODEL_4efa426a8fcd4a28af59c3ac4c28249a",
              "IPY_MODEL_fafdf58e215b402eaebb868b2bb01816"
            ],
            "layout": "IPY_MODEL_379713d256b04713b1c3310786a5030f"
          }
        },
        "5dd5396e77544dc7868f69cd7d2f498d": {
          "model_module": "@jupyter-widgets/controls",
          "model_module_version": "1.5.0",
          "model_name": "HTMLModel",
          "state": {
            "_dom_classes": [],
            "_model_module": "@jupyter-widgets/controls",
            "_model_module_version": "1.5.0",
            "_model_name": "HTMLModel",
            "_view_count": null,
            "_view_module": "@jupyter-widgets/controls",
            "_view_module_version": "1.5.0",
            "_view_name": "HTMLView",
            "description": "",
            "description_tooltip": null,
            "layout": "IPY_MODEL_7a3a664acaa4433db76cc4a3033a568c",
            "placeholder": "​",
            "style": "IPY_MODEL_07e9ba9be3af4c44ac7872289cb3d848",
            "value": " 150/150 [06:56&lt;00:00,  2.65s/it]"
          }
        },
        "665e91c877484a7aaa9a1b7a291d55cb": {
          "model_module": "@jupyter-widgets/controls",
          "model_module_version": "1.5.0",
          "model_name": "HTMLModel",
          "state": {
            "_dom_classes": [],
            "_model_module": "@jupyter-widgets/controls",
            "_model_module_version": "1.5.0",
            "_model_name": "HTMLModel",
            "_view_count": null,
            "_view_module": "@jupyter-widgets/controls",
            "_view_module_version": "1.5.0",
            "_view_name": "HTMLView",
            "description": "",
            "description_tooltip": null,
            "layout": "IPY_MODEL_3fc1d9ab9bfd4ec6a0ffca86ef03c65f",
            "placeholder": "​",
            "style": "IPY_MODEL_2f77d1b9549242e8bca055f48a384a5f",
            "value": " 150/150 [06:57&lt;00:00,  2.64s/it]"
          }
        },
        "68f1e3d5f6a44d7e98d1a635d314b0fe": {
          "model_module": "@jupyter-widgets/base",
          "model_module_version": "1.2.0",
          "model_name": "LayoutModel",
          "state": {
            "_model_module": "@jupyter-widgets/base",
            "_model_module_version": "1.2.0",
            "_model_name": "LayoutModel",
            "_view_count": null,
            "_view_module": "@jupyter-widgets/base",
            "_view_module_version": "1.2.0",
            "_view_name": "LayoutView",
            "align_content": null,
            "align_items": null,
            "align_self": null,
            "border": null,
            "bottom": null,
            "display": null,
            "flex": null,
            "flex_flow": null,
            "grid_area": null,
            "grid_auto_columns": null,
            "grid_auto_flow": null,
            "grid_auto_rows": null,
            "grid_column": null,
            "grid_gap": null,
            "grid_row": null,
            "grid_template_areas": null,
            "grid_template_columns": null,
            "grid_template_rows": null,
            "height": null,
            "justify_content": null,
            "justify_items": null,
            "left": null,
            "margin": null,
            "max_height": null,
            "max_width": null,
            "min_height": null,
            "min_width": null,
            "object_fit": null,
            "object_position": null,
            "order": null,
            "overflow": null,
            "overflow_x": null,
            "overflow_y": null,
            "padding": null,
            "right": null,
            "top": null,
            "visibility": "hidden",
            "width": null
          }
        },
        "6db4df0eb1e741a491aeede3784e2747": {
          "model_module": "@jupyter-widgets/controls",
          "model_module_version": "1.5.0",
          "model_name": "HTMLModel",
          "state": {
            "_dom_classes": [],
            "_model_module": "@jupyter-widgets/controls",
            "_model_module_version": "1.5.0",
            "_model_name": "HTMLModel",
            "_view_count": null,
            "_view_module": "@jupyter-widgets/controls",
            "_view_module_version": "1.5.0",
            "_view_name": "HTMLView",
            "description": "",
            "description_tooltip": null,
            "layout": "IPY_MODEL_a8848f17b6974e929d99295d5463d4fd",
            "placeholder": "​",
            "style": "IPY_MODEL_7bfaac231ad84271ae72e23677559ee3",
            "value": " 150/150 [06:53&lt;00:00,  2.68s/it]"
          }
        },
        "7229a997abae4940ac502ae9e2635f61": {
          "model_module": "@jupyter-widgets/base",
          "model_module_version": "1.2.0",
          "model_name": "LayoutModel",
          "state": {
            "_model_module": "@jupyter-widgets/base",
            "_model_module_version": "1.2.0",
            "_model_name": "LayoutModel",
            "_view_count": null,
            "_view_module": "@jupyter-widgets/base",
            "_view_module_version": "1.2.0",
            "_view_name": "LayoutView",
            "align_content": null,
            "align_items": null,
            "align_self": null,
            "border": null,
            "bottom": null,
            "display": null,
            "flex": null,
            "flex_flow": null,
            "grid_area": null,
            "grid_auto_columns": null,
            "grid_auto_flow": null,
            "grid_auto_rows": null,
            "grid_column": null,
            "grid_gap": null,
            "grid_row": null,
            "grid_template_areas": null,
            "grid_template_columns": null,
            "grid_template_rows": null,
            "height": null,
            "justify_content": null,
            "justify_items": null,
            "left": null,
            "margin": null,
            "max_height": null,
            "max_width": null,
            "min_height": null,
            "min_width": null,
            "object_fit": null,
            "object_position": null,
            "order": null,
            "overflow": null,
            "overflow_x": null,
            "overflow_y": null,
            "padding": null,
            "right": null,
            "top": null,
            "visibility": null,
            "width": null
          }
        },
        "749fe063a5d44e298b495556e86439b4": {
          "model_module": "@jupyter-widgets/controls",
          "model_module_version": "1.5.0",
          "model_name": "HBoxModel",
          "state": {
            "_dom_classes": [],
            "_model_module": "@jupyter-widgets/controls",
            "_model_module_version": "1.5.0",
            "_model_name": "HBoxModel",
            "_view_count": null,
            "_view_module": "@jupyter-widgets/controls",
            "_view_module_version": "1.5.0",
            "_view_name": "HBoxView",
            "box_style": "",
            "children": [
              "IPY_MODEL_512b4ff091524d458da1c5ba9ec90e37",
              "IPY_MODEL_ba5bd543d8cb40f0b32e5bb9dbcf0c95",
              "IPY_MODEL_5dd5396e77544dc7868f69cd7d2f498d"
            ],
            "layout": "IPY_MODEL_58de261f45024ab1a4ea4bf768846479"
          }
        },
        "7999b1673b6b4279b2d7350b1cdb9679": {
          "model_module": "@jupyter-widgets/controls",
          "model_module_version": "1.5.0",
          "model_name": "HBoxModel",
          "state": {
            "_dom_classes": [],
            "_model_module": "@jupyter-widgets/controls",
            "_model_module_version": "1.5.0",
            "_model_name": "HBoxModel",
            "_view_count": null,
            "_view_module": "@jupyter-widgets/controls",
            "_view_module_version": "1.5.0",
            "_view_name": "HBoxView",
            "box_style": "",
            "children": [
              "IPY_MODEL_25c0e9644195425f93e062c161da78bd",
              "IPY_MODEL_54c135b11d19412abc8336e2b6c72c3a",
              "IPY_MODEL_6db4df0eb1e741a491aeede3784e2747"
            ],
            "layout": "IPY_MODEL_68f1e3d5f6a44d7e98d1a635d314b0fe"
          }
        },
        "7a3a664acaa4433db76cc4a3033a568c": {
          "model_module": "@jupyter-widgets/base",
          "model_module_version": "1.2.0",
          "model_name": "LayoutModel",
          "state": {
            "_model_module": "@jupyter-widgets/base",
            "_model_module_version": "1.2.0",
            "_model_name": "LayoutModel",
            "_view_count": null,
            "_view_module": "@jupyter-widgets/base",
            "_view_module_version": "1.2.0",
            "_view_name": "LayoutView",
            "align_content": null,
            "align_items": null,
            "align_self": null,
            "border": null,
            "bottom": null,
            "display": null,
            "flex": null,
            "flex_flow": null,
            "grid_area": null,
            "grid_auto_columns": null,
            "grid_auto_flow": null,
            "grid_auto_rows": null,
            "grid_column": null,
            "grid_gap": null,
            "grid_row": null,
            "grid_template_areas": null,
            "grid_template_columns": null,
            "grid_template_rows": null,
            "height": null,
            "justify_content": null,
            "justify_items": null,
            "left": null,
            "margin": null,
            "max_height": null,
            "max_width": null,
            "min_height": null,
            "min_width": null,
            "object_fit": null,
            "object_position": null,
            "order": null,
            "overflow": null,
            "overflow_x": null,
            "overflow_y": null,
            "padding": null,
            "right": null,
            "top": null,
            "visibility": null,
            "width": null
          }
        },
        "7b51f3708c8b468ba2b8f88121f40dbd": {
          "model_module": "@jupyter-widgets/controls",
          "model_module_version": "1.5.0",
          "model_name": "HTMLModel",
          "state": {
            "_dom_classes": [],
            "_model_module": "@jupyter-widgets/controls",
            "_model_module_version": "1.5.0",
            "_model_name": "HTMLModel",
            "_view_count": null,
            "_view_module": "@jupyter-widgets/controls",
            "_view_module_version": "1.5.0",
            "_view_name": "HTMLView",
            "description": "",
            "description_tooltip": null,
            "layout": "IPY_MODEL_dfb7cc9191764327b0bc51abd36fc619",
            "placeholder": "​",
            "style": "IPY_MODEL_25c4932fd3f2476cbf6093f19a96d468",
            "value": "100%"
          }
        },
        "7bfaac231ad84271ae72e23677559ee3": {
          "model_module": "@jupyter-widgets/controls",
          "model_module_version": "1.5.0",
          "model_name": "DescriptionStyleModel",
          "state": {
            "_model_module": "@jupyter-widgets/controls",
            "_model_module_version": "1.5.0",
            "_model_name": "DescriptionStyleModel",
            "_view_count": null,
            "_view_module": "@jupyter-widgets/base",
            "_view_module_version": "1.2.0",
            "_view_name": "StyleView",
            "description_width": ""
          }
        },
        "7fa3963886d0498db7be8cd7b1dd1941": {
          "model_module": "@jupyter-widgets/base",
          "model_module_version": "1.2.0",
          "model_name": "LayoutModel",
          "state": {
            "_model_module": "@jupyter-widgets/base",
            "_model_module_version": "1.2.0",
            "_model_name": "LayoutModel",
            "_view_count": null,
            "_view_module": "@jupyter-widgets/base",
            "_view_module_version": "1.2.0",
            "_view_name": "LayoutView",
            "align_content": null,
            "align_items": null,
            "align_self": null,
            "border": null,
            "bottom": null,
            "display": null,
            "flex": null,
            "flex_flow": null,
            "grid_area": null,
            "grid_auto_columns": null,
            "grid_auto_flow": null,
            "grid_auto_rows": null,
            "grid_column": null,
            "grid_gap": null,
            "grid_row": null,
            "grid_template_areas": null,
            "grid_template_columns": null,
            "grid_template_rows": null,
            "height": null,
            "justify_content": null,
            "justify_items": null,
            "left": null,
            "margin": null,
            "max_height": null,
            "max_width": null,
            "min_height": null,
            "min_width": null,
            "object_fit": null,
            "object_position": null,
            "order": null,
            "overflow": null,
            "overflow_x": null,
            "overflow_y": null,
            "padding": null,
            "right": null,
            "top": null,
            "visibility": null,
            "width": null
          }
        },
        "845385ea6ffb4dbaac85898e1ffddb01": {
          "model_module": "@jupyter-widgets/controls",
          "model_module_version": "1.5.0",
          "model_name": "DescriptionStyleModel",
          "state": {
            "_model_module": "@jupyter-widgets/controls",
            "_model_module_version": "1.5.0",
            "_model_name": "DescriptionStyleModel",
            "_view_count": null,
            "_view_module": "@jupyter-widgets/base",
            "_view_module_version": "1.2.0",
            "_view_name": "StyleView",
            "description_width": ""
          }
        },
        "8ee17479cc424e9e97f77570e428ce0a": {
          "model_module": "@jupyter-widgets/controls",
          "model_module_version": "1.5.0",
          "model_name": "DescriptionStyleModel",
          "state": {
            "_model_module": "@jupyter-widgets/controls",
            "_model_module_version": "1.5.0",
            "_model_name": "DescriptionStyleModel",
            "_view_count": null,
            "_view_module": "@jupyter-widgets/base",
            "_view_module_version": "1.2.0",
            "_view_name": "StyleView",
            "description_width": ""
          }
        },
        "8f735dfafe2642c38a96e470e6e662f9": {
          "model_module": "@jupyter-widgets/base",
          "model_module_version": "1.2.0",
          "model_name": "LayoutModel",
          "state": {
            "_model_module": "@jupyter-widgets/base",
            "_model_module_version": "1.2.0",
            "_model_name": "LayoutModel",
            "_view_count": null,
            "_view_module": "@jupyter-widgets/base",
            "_view_module_version": "1.2.0",
            "_view_name": "LayoutView",
            "align_content": null,
            "align_items": null,
            "align_self": null,
            "border": null,
            "bottom": null,
            "display": null,
            "flex": null,
            "flex_flow": null,
            "grid_area": null,
            "grid_auto_columns": null,
            "grid_auto_flow": null,
            "grid_auto_rows": null,
            "grid_column": null,
            "grid_gap": null,
            "grid_row": null,
            "grid_template_areas": null,
            "grid_template_columns": null,
            "grid_template_rows": null,
            "height": null,
            "justify_content": null,
            "justify_items": null,
            "left": null,
            "margin": null,
            "max_height": null,
            "max_width": null,
            "min_height": null,
            "min_width": null,
            "object_fit": null,
            "object_position": null,
            "order": null,
            "overflow": null,
            "overflow_x": null,
            "overflow_y": null,
            "padding": null,
            "right": null,
            "top": null,
            "visibility": null,
            "width": null
          }
        },
        "92245b10424d470e9d9e4ed5ee1aa401": {
          "model_module": "@jupyter-widgets/controls",
          "model_module_version": "1.5.0",
          "model_name": "FloatProgressModel",
          "state": {
            "_dom_classes": [],
            "_model_module": "@jupyter-widgets/controls",
            "_model_module_version": "1.5.0",
            "_model_name": "FloatProgressModel",
            "_view_count": null,
            "_view_module": "@jupyter-widgets/controls",
            "_view_module_version": "1.5.0",
            "_view_name": "ProgressView",
            "bar_style": "",
            "description": "",
            "description_tooltip": null,
            "layout": "IPY_MODEL_7fa3963886d0498db7be8cd7b1dd1941",
            "max": 150,
            "min": 0,
            "orientation": "horizontal",
            "style": "IPY_MODEL_281d15cc520f469eaeb4f661d5ae1b9b",
            "value": 150
          }
        },
        "9319e8416f90467290606193db7f8562": {
          "model_module": "@jupyter-widgets/controls",
          "model_module_version": "1.5.0",
          "model_name": "ProgressStyleModel",
          "state": {
            "_model_module": "@jupyter-widgets/controls",
            "_model_module_version": "1.5.0",
            "_model_name": "ProgressStyleModel",
            "_view_count": null,
            "_view_module": "@jupyter-widgets/base",
            "_view_module_version": "1.2.0",
            "_view_name": "StyleView",
            "bar_color": null,
            "description_width": ""
          }
        },
        "943c05d0a26b46c49ed891110b753b9e": {
          "model_module": "@jupyter-widgets/controls",
          "model_module_version": "1.5.0",
          "model_name": "FloatProgressModel",
          "state": {
            "_dom_classes": [],
            "_model_module": "@jupyter-widgets/controls",
            "_model_module_version": "1.5.0",
            "_model_name": "FloatProgressModel",
            "_view_count": null,
            "_view_module": "@jupyter-widgets/controls",
            "_view_module_version": "1.5.0",
            "_view_name": "ProgressView",
            "bar_style": "",
            "description": "",
            "description_tooltip": null,
            "layout": "IPY_MODEL_32e09b2b331d42f8a5201c54572c9879",
            "max": 150,
            "min": 0,
            "orientation": "horizontal",
            "style": "IPY_MODEL_5a92f653168d44d68f191f3649419ed1",
            "value": 150
          }
        },
        "960c73c75b7143ae9f76a22b98a937da": {
          "model_module": "@jupyter-widgets/controls",
          "model_module_version": "1.5.0",
          "model_name": "DescriptionStyleModel",
          "state": {
            "_model_module": "@jupyter-widgets/controls",
            "_model_module_version": "1.5.0",
            "_model_name": "DescriptionStyleModel",
            "_view_count": null,
            "_view_module": "@jupyter-widgets/base",
            "_view_module_version": "1.2.0",
            "_view_name": "StyleView",
            "description_width": ""
          }
        },
        "96209cfe5397457d9ade9e39ff23ad2e": {
          "model_module": "@jupyter-widgets/base",
          "model_module_version": "1.2.0",
          "model_name": "LayoutModel",
          "state": {
            "_model_module": "@jupyter-widgets/base",
            "_model_module_version": "1.2.0",
            "_model_name": "LayoutModel",
            "_view_count": null,
            "_view_module": "@jupyter-widgets/base",
            "_view_module_version": "1.2.0",
            "_view_name": "LayoutView",
            "align_content": null,
            "align_items": null,
            "align_self": null,
            "border": null,
            "bottom": null,
            "display": null,
            "flex": null,
            "flex_flow": null,
            "grid_area": null,
            "grid_auto_columns": null,
            "grid_auto_flow": null,
            "grid_auto_rows": null,
            "grid_column": null,
            "grid_gap": null,
            "grid_row": null,
            "grid_template_areas": null,
            "grid_template_columns": null,
            "grid_template_rows": null,
            "height": null,
            "justify_content": null,
            "justify_items": null,
            "left": null,
            "margin": null,
            "max_height": null,
            "max_width": null,
            "min_height": null,
            "min_width": null,
            "object_fit": null,
            "object_position": null,
            "order": null,
            "overflow": null,
            "overflow_x": null,
            "overflow_y": null,
            "padding": null,
            "right": null,
            "top": null,
            "visibility": null,
            "width": null
          }
        },
        "a8848f17b6974e929d99295d5463d4fd": {
          "model_module": "@jupyter-widgets/base",
          "model_module_version": "1.2.0",
          "model_name": "LayoutModel",
          "state": {
            "_model_module": "@jupyter-widgets/base",
            "_model_module_version": "1.2.0",
            "_model_name": "LayoutModel",
            "_view_count": null,
            "_view_module": "@jupyter-widgets/base",
            "_view_module_version": "1.2.0",
            "_view_name": "LayoutView",
            "align_content": null,
            "align_items": null,
            "align_self": null,
            "border": null,
            "bottom": null,
            "display": null,
            "flex": null,
            "flex_flow": null,
            "grid_area": null,
            "grid_auto_columns": null,
            "grid_auto_flow": null,
            "grid_auto_rows": null,
            "grid_column": null,
            "grid_gap": null,
            "grid_row": null,
            "grid_template_areas": null,
            "grid_template_columns": null,
            "grid_template_rows": null,
            "height": null,
            "justify_content": null,
            "justify_items": null,
            "left": null,
            "margin": null,
            "max_height": null,
            "max_width": null,
            "min_height": null,
            "min_width": null,
            "object_fit": null,
            "object_position": null,
            "order": null,
            "overflow": null,
            "overflow_x": null,
            "overflow_y": null,
            "padding": null,
            "right": null,
            "top": null,
            "visibility": null,
            "width": null
          }
        },
        "a8aa955d36874c74afa3fcc091c43f03": {
          "model_module": "@jupyter-widgets/base",
          "model_module_version": "1.2.0",
          "model_name": "LayoutModel",
          "state": {
            "_model_module": "@jupyter-widgets/base",
            "_model_module_version": "1.2.0",
            "_model_name": "LayoutModel",
            "_view_count": null,
            "_view_module": "@jupyter-widgets/base",
            "_view_module_version": "1.2.0",
            "_view_name": "LayoutView",
            "align_content": null,
            "align_items": null,
            "align_self": null,
            "border": null,
            "bottom": null,
            "display": null,
            "flex": null,
            "flex_flow": null,
            "grid_area": null,
            "grid_auto_columns": null,
            "grid_auto_flow": null,
            "grid_auto_rows": null,
            "grid_column": null,
            "grid_gap": null,
            "grid_row": null,
            "grid_template_areas": null,
            "grid_template_columns": null,
            "grid_template_rows": null,
            "height": null,
            "justify_content": null,
            "justify_items": null,
            "left": null,
            "margin": null,
            "max_height": null,
            "max_width": null,
            "min_height": null,
            "min_width": null,
            "object_fit": null,
            "object_position": null,
            "order": null,
            "overflow": null,
            "overflow_x": null,
            "overflow_y": null,
            "padding": null,
            "right": null,
            "top": null,
            "visibility": null,
            "width": null
          }
        },
        "ba5bd543d8cb40f0b32e5bb9dbcf0c95": {
          "model_module": "@jupyter-widgets/controls",
          "model_module_version": "1.5.0",
          "model_name": "FloatProgressModel",
          "state": {
            "_dom_classes": [],
            "_model_module": "@jupyter-widgets/controls",
            "_model_module_version": "1.5.0",
            "_model_name": "FloatProgressModel",
            "_view_count": null,
            "_view_module": "@jupyter-widgets/controls",
            "_view_module_version": "1.5.0",
            "_view_name": "ProgressView",
            "bar_style": "",
            "description": "",
            "description_tooltip": null,
            "layout": "IPY_MODEL_7229a997abae4940ac502ae9e2635f61",
            "max": 150,
            "min": 0,
            "orientation": "horizontal",
            "style": "IPY_MODEL_2166c7d59ff440a388bb71b4a7cd8d02",
            "value": 150
          }
        },
        "bb556073daad4ad2af103fc199f3822d": {
          "model_module": "@jupyter-widgets/base",
          "model_module_version": "1.2.0",
          "model_name": "LayoutModel",
          "state": {
            "_model_module": "@jupyter-widgets/base",
            "_model_module_version": "1.2.0",
            "_model_name": "LayoutModel",
            "_view_count": null,
            "_view_module": "@jupyter-widgets/base",
            "_view_module_version": "1.2.0",
            "_view_name": "LayoutView",
            "align_content": null,
            "align_items": null,
            "align_self": null,
            "border": null,
            "bottom": null,
            "display": null,
            "flex": null,
            "flex_flow": null,
            "grid_area": null,
            "grid_auto_columns": null,
            "grid_auto_flow": null,
            "grid_auto_rows": null,
            "grid_column": null,
            "grid_gap": null,
            "grid_row": null,
            "grid_template_areas": null,
            "grid_template_columns": null,
            "grid_template_rows": null,
            "height": null,
            "justify_content": null,
            "justify_items": null,
            "left": null,
            "margin": null,
            "max_height": null,
            "max_width": null,
            "min_height": null,
            "min_width": null,
            "object_fit": null,
            "object_position": null,
            "order": null,
            "overflow": null,
            "overflow_x": null,
            "overflow_y": null,
            "padding": null,
            "right": null,
            "top": null,
            "visibility": null,
            "width": null
          }
        },
        "c489ab06ffd84835a25d9caf791e6fe2": {
          "model_module": "@jupyter-widgets/base",
          "model_module_version": "1.2.0",
          "model_name": "LayoutModel",
          "state": {
            "_model_module": "@jupyter-widgets/base",
            "_model_module_version": "1.2.0",
            "_model_name": "LayoutModel",
            "_view_count": null,
            "_view_module": "@jupyter-widgets/base",
            "_view_module_version": "1.2.0",
            "_view_name": "LayoutView",
            "align_content": null,
            "align_items": null,
            "align_self": null,
            "border": null,
            "bottom": null,
            "display": null,
            "flex": null,
            "flex_flow": null,
            "grid_area": null,
            "grid_auto_columns": null,
            "grid_auto_flow": null,
            "grid_auto_rows": null,
            "grid_column": null,
            "grid_gap": null,
            "grid_row": null,
            "grid_template_areas": null,
            "grid_template_columns": null,
            "grid_template_rows": null,
            "height": null,
            "justify_content": null,
            "justify_items": null,
            "left": null,
            "margin": null,
            "max_height": null,
            "max_width": null,
            "min_height": null,
            "min_width": null,
            "object_fit": null,
            "object_position": null,
            "order": null,
            "overflow": null,
            "overflow_x": null,
            "overflow_y": null,
            "padding": null,
            "right": null,
            "top": null,
            "visibility": null,
            "width": null
          }
        },
        "dfb7cc9191764327b0bc51abd36fc619": {
          "model_module": "@jupyter-widgets/base",
          "model_module_version": "1.2.0",
          "model_name": "LayoutModel",
          "state": {
            "_model_module": "@jupyter-widgets/base",
            "_model_module_version": "1.2.0",
            "_model_name": "LayoutModel",
            "_view_count": null,
            "_view_module": "@jupyter-widgets/base",
            "_view_module_version": "1.2.0",
            "_view_name": "LayoutView",
            "align_content": null,
            "align_items": null,
            "align_self": null,
            "border": null,
            "bottom": null,
            "display": null,
            "flex": null,
            "flex_flow": null,
            "grid_area": null,
            "grid_auto_columns": null,
            "grid_auto_flow": null,
            "grid_auto_rows": null,
            "grid_column": null,
            "grid_gap": null,
            "grid_row": null,
            "grid_template_areas": null,
            "grid_template_columns": null,
            "grid_template_rows": null,
            "height": null,
            "justify_content": null,
            "justify_items": null,
            "left": null,
            "margin": null,
            "max_height": null,
            "max_width": null,
            "min_height": null,
            "min_width": null,
            "object_fit": null,
            "object_position": null,
            "order": null,
            "overflow": null,
            "overflow_x": null,
            "overflow_y": null,
            "padding": null,
            "right": null,
            "top": null,
            "visibility": null,
            "width": null
          }
        },
        "e6a7fb83275f4b87a76f5a19dbaba0de": {
          "model_module": "@jupyter-widgets/controls",
          "model_module_version": "1.5.0",
          "model_name": "DescriptionStyleModel",
          "state": {
            "_model_module": "@jupyter-widgets/controls",
            "_model_module_version": "1.5.0",
            "_model_name": "DescriptionStyleModel",
            "_view_count": null,
            "_view_module": "@jupyter-widgets/base",
            "_view_module_version": "1.2.0",
            "_view_name": "StyleView",
            "description_width": ""
          }
        },
        "efa8474c18a54721a17a07bcdda3ef69": {
          "model_module": "@jupyter-widgets/controls",
          "model_module_version": "1.5.0",
          "model_name": "DescriptionStyleModel",
          "state": {
            "_model_module": "@jupyter-widgets/controls",
            "_model_module_version": "1.5.0",
            "_model_name": "DescriptionStyleModel",
            "_view_count": null,
            "_view_module": "@jupyter-widgets/base",
            "_view_module_version": "1.2.0",
            "_view_name": "StyleView",
            "description_width": ""
          }
        },
        "f0a3960267ca45d9abadc8a6562a6484": {
          "model_module": "@jupyter-widgets/base",
          "model_module_version": "1.2.0",
          "model_name": "LayoutModel",
          "state": {
            "_model_module": "@jupyter-widgets/base",
            "_model_module_version": "1.2.0",
            "_model_name": "LayoutModel",
            "_view_count": null,
            "_view_module": "@jupyter-widgets/base",
            "_view_module_version": "1.2.0",
            "_view_name": "LayoutView",
            "align_content": null,
            "align_items": null,
            "align_self": null,
            "border": null,
            "bottom": null,
            "display": null,
            "flex": null,
            "flex_flow": null,
            "grid_area": null,
            "grid_auto_columns": null,
            "grid_auto_flow": null,
            "grid_auto_rows": null,
            "grid_column": null,
            "grid_gap": null,
            "grid_row": null,
            "grid_template_areas": null,
            "grid_template_columns": null,
            "grid_template_rows": null,
            "height": null,
            "justify_content": null,
            "justify_items": null,
            "left": null,
            "margin": null,
            "max_height": null,
            "max_width": null,
            "min_height": null,
            "min_width": null,
            "object_fit": null,
            "object_position": null,
            "order": null,
            "overflow": null,
            "overflow_x": null,
            "overflow_y": null,
            "padding": null,
            "right": null,
            "top": null,
            "visibility": null,
            "width": null
          }
        },
        "fafdf58e215b402eaebb868b2bb01816": {
          "model_module": "@jupyter-widgets/controls",
          "model_module_version": "1.5.0",
          "model_name": "HTMLModel",
          "state": {
            "_dom_classes": [],
            "_model_module": "@jupyter-widgets/controls",
            "_model_module_version": "1.5.0",
            "_model_name": "HTMLModel",
            "_view_count": null,
            "_view_module": "@jupyter-widgets/controls",
            "_view_module_version": "1.5.0",
            "_view_name": "HTMLView",
            "description": "",
            "description_tooltip": null,
            "layout": "IPY_MODEL_a8aa955d36874c74afa3fcc091c43f03",
            "placeholder": "​",
            "style": "IPY_MODEL_efa8474c18a54721a17a07bcdda3ef69",
            "value": " 150/150 [06:45&lt;00:00,  2.58s/it]"
          }
        },
        "fbe62d992e8440c3b577606f7a78dada": {
          "model_module": "@jupyter-widgets/controls",
          "model_module_version": "1.5.0",
          "model_name": "HBoxModel",
          "state": {
            "_dom_classes": [],
            "_model_module": "@jupyter-widgets/controls",
            "_model_module_version": "1.5.0",
            "_model_name": "HBoxModel",
            "_view_count": null,
            "_view_module": "@jupyter-widgets/controls",
            "_view_module_version": "1.5.0",
            "_view_name": "HBoxView",
            "box_style": "",
            "children": [
              "IPY_MODEL_179423883f1d424398cddce0c2994ac5",
              "IPY_MODEL_943c05d0a26b46c49ed891110b753b9e",
              "IPY_MODEL_0e4776d4f3ea4e2cbb2cd47c5807899d"
            ],
            "layout": "IPY_MODEL_42d134fd03ed45d4a534304d459297af"
          }
        },
        "fe8de6a5c4b24c77a00332b5e2f258f3": {
          "model_module": "@jupyter-widgets/base",
          "model_module_version": "1.2.0",
          "model_name": "LayoutModel",
          "state": {
            "_model_module": "@jupyter-widgets/base",
            "_model_module_version": "1.2.0",
            "_model_name": "LayoutModel",
            "_view_count": null,
            "_view_module": "@jupyter-widgets/base",
            "_view_module_version": "1.2.0",
            "_view_name": "LayoutView",
            "align_content": null,
            "align_items": null,
            "align_self": null,
            "border": null,
            "bottom": null,
            "display": null,
            "flex": null,
            "flex_flow": null,
            "grid_area": null,
            "grid_auto_columns": null,
            "grid_auto_flow": null,
            "grid_auto_rows": null,
            "grid_column": null,
            "grid_gap": null,
            "grid_row": null,
            "grid_template_areas": null,
            "grid_template_columns": null,
            "grid_template_rows": null,
            "height": null,
            "justify_content": null,
            "justify_items": null,
            "left": null,
            "margin": null,
            "max_height": null,
            "max_width": null,
            "min_height": null,
            "min_width": null,
            "object_fit": null,
            "object_position": null,
            "order": null,
            "overflow": null,
            "overflow_x": null,
            "overflow_y": null,
            "padding": null,
            "right": null,
            "top": null,
            "visibility": null,
            "width": null
          }
        }
      }
    }
  },
  "nbformat": 4,
  "nbformat_minor": 0
}
