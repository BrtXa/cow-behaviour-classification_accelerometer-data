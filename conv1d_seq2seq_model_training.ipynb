{
  "cells": [
    {
      "cell_type": "markdown",
      "metadata": {
        "id": "wLKqPO8wjw1-"
      },
      "source": [
        "# Pre-trained CNN for behaviours detection"
      ]
    },
    {
      "cell_type": "markdown",
      "metadata": {
        "id": "K_mgS6Srjw2B"
      },
      "source": [
        "## Imports and constants"
      ]
    },
    {
      "cell_type": "code",
      "execution_count": 1,
      "metadata": {
        "colab": {
          "base_uri": "https://localhost:8080/"
        },
        "id": "L93_kWOAjw2B",
        "outputId": "2ed6b7c5-1c36-4e0a-b4dc-be85c217255f"
      },
      "outputs": [
        {
          "name": "stderr",
          "output_type": "stream",
          "text": [
            "2023-12-07 04:53:57.402383: I tensorflow/tsl/cuda/cudart_stub.cc:28] Could not find cuda drivers on your machine, GPU will not be used.\n",
            "2023-12-07 04:53:57.429583: E tensorflow/compiler/xla/stream_executor/cuda/cuda_dnn.cc:9342] Unable to register cuDNN factory: Attempting to register factory for plugin cuDNN when one has already been registered\n",
            "2023-12-07 04:53:57.429637: E tensorflow/compiler/xla/stream_executor/cuda/cuda_fft.cc:609] Unable to register cuFFT factory: Attempting to register factory for plugin cuFFT when one has already been registered\n",
            "2023-12-07 04:53:57.429685: E tensorflow/compiler/xla/stream_executor/cuda/cuda_blas.cc:1518] Unable to register cuBLAS factory: Attempting to register factory for plugin cuBLAS when one has already been registered\n",
            "2023-12-07 04:53:57.436894: I tensorflow/tsl/cuda/cudart_stub.cc:28] Could not find cuda drivers on your machine, GPU will not be used.\n",
            "2023-12-07 04:53:57.437340: I tensorflow/core/platform/cpu_feature_guard.cc:182] This TensorFlow binary is optimized to use available CPU instructions in performance-critical operations.\n",
            "To enable the following instructions: AVX2 FMA, in other operations, rebuild TensorFlow with the appropriate compiler flags.\n",
            "2023-12-07 04:53:58.298860: W tensorflow/compiler/tf2tensorrt/utils/py_utils.cc:38] TF-TRT Warning: Could not find TensorRT\n"
          ]
        },
        {
          "name": "stdout",
          "output_type": "stream",
          "text": [
            "2.14.0\n"
          ]
        }
      ],
      "source": [
        "import random\n",
        "import tensorflow as tf\n",
        "from keras import Sequential\n",
        "from keras.layers import (\n",
        "    Flatten,\n",
        "    Dense,\n",
        "    Dropout,\n",
        "    BatchNormalization,\n",
        "    Embedding,\n",
        "    GRU,\n",
        "    Bidirectional,\n",
        "    RepeatVector,\n",
        "    TimeDistributed,\n",
        ")\n",
        "from keras.losses import SparseCategoricalCrossentropy, MeanSquaredError\n",
        "from keras.layers import Conv1D, MaxPool1D, Conv2D, MaxPool2D\n",
        "from keras.optimizers import Adam, SGD\n",
        "from os import listdir\n",
        "from os.path import isfile, join\n",
        "\n",
        "import os\n",
        "\n",
        "print(tf.__version__)"
      ]
    },
    {
      "cell_type": "code",
      "execution_count": 2,
      "metadata": {
        "id": "dQp89GN5jw2D"
      },
      "outputs": [],
      "source": [
        "import pandas as pd\n",
        "import numpy as np\n",
        "import matplotlib.pyplot as plt\n",
        "from sklearn.model_selection import train_test_split\n",
        "from sklearn.preprocessing import StandardScaler, LabelEncoder\n",
        "from sklearn.utils import class_weight\n",
        "from sklearn.metrics import recall_score, confusion_matrix, ConfusionMatrixDisplay\n",
        "\n",
        "import scipy.stats as stats\n",
        "import sqlite3\n",
        "import gc"
      ]
    },
    {
      "cell_type": "code",
      "execution_count": 3,
      "metadata": {
        "id": "GLdIUVhFjw2D"
      },
      "outputs": [],
      "source": [
        "training_device: str = \"cpu\"\n",
        "\n",
        "if str.lower(training_device) == \"cpu\":\n",
        "    tf.config.set_visible_devices(\n",
        "        devices=[],\n",
        "        device_type=\"GPU\",\n",
        "    )\n",
        "else:\n",
        "    physical_devices = tf.config.experimental.list_physical_devices(\"GPU\")\n",
        "    assert len(physical_devices) > 0, \"Not enough GPU hardware devices available\"\n",
        "    config = tf.config.experimental.set_memory_growth(physical_devices[0], True)"
      ]
    },
    {
      "cell_type": "markdown",
      "metadata": {
        "id": "g1TlB8JKjw2E"
      },
      "source": [
        "## Data pre-processing"
      ]
    },
    {
      "cell_type": "markdown",
      "metadata": {
        "id": "BC8sYou0jw2E"
      },
      "source": [
        "### Load the Dataset"
      ]
    },
    {
      "cell_type": "code",
      "execution_count": 4,
      "metadata": {
        "id": "yOI2f4f4UBu5"
      },
      "outputs": [],
      "source": [
        "def load_data_sqlite() -> pd.DataFrame:\n",
        "    connection: sqlite3.Connection = sqlite3.connect(\n",
        "        database=\"drive/MyDrive/Ellinbank/video_observation/data/ellinbank_cow-observation_labeled-data.db\"\n",
        "    )\n",
        "    cursor: sqlite3.Cursor = connection.cursor()\n",
        "\n",
        "    DATABASE_NAME: str = \"LebeledDataTable\"\n",
        "\n",
        "    query: str = \"\"\"\n",
        "    select distinct serial_number\n",
        "    from {}\n",
        "    \"\"\".format(\n",
        "        DATABASE_NAME\n",
        "    )\n",
        "\n",
        "    response: sqlite3.Cursor = cursor.execute(query)\n",
        "    file_names: list = list(response)\n",
        "    file_names = [file[0] for file in file_names]\n",
        "\n",
        "    dataframes: list = []\n",
        "    for file in file_names:\n",
        "        query: str = \"\"\"\n",
        "            select *\n",
        "            from {}\n",
        "            where serial_number = '{}'\n",
        "        \"\"\".format(\n",
        "            DATABASE_NAME,\n",
        "            file,\n",
        "        )\n",
        "        df: pd.DataFrame = pd.read_sql_query(\n",
        "            sql=query,\n",
        "            con=connection,\n",
        "        )\n",
        "        dataframes.append(df)\n",
        "        # break\n",
        "\n",
        "    dataframe: pd.DataFrame = pd.concat(dataframes)\n",
        "    return dataframe"
      ]
    },
    {
      "cell_type": "code",
      "execution_count": 5,
      "metadata": {
        "id": "tXkvGKP0UBu5"
      },
      "outputs": [],
      "source": [
        "notebook_mode: str = \"developing\"\n",
        "if notebook_mode == \"developing\":\n",
        "    full_data: pd.DataFrame = pd.read_csv(\"../../../data/ellinbank_cow-data_small.csv\")\n",
        "else:\n",
        "    !cp drive/MyDrive/Ellinbank/video_observation/custom_train_test_loop/k-fold_cross-validation/custom_model.py .\n",
        "    !cp drive/MyDrive/Ellinbank/video_observation/custom_train_test_loop/k-fold_cross-validation/inference.py .\n",
        "    !cp drive/MyDrive/Ellinbank/video_observation/custom_train_test_loop/k-fold_cross-validation/utils.py .\n",
        "    full_data: pd.DataFrame = load_data_sqlite()"
      ]
    },
    {
      "cell_type": "code",
      "execution_count": 6,
      "metadata": {
        "colab": {
          "base_uri": "https://localhost:8080/"
        },
        "id": "lKuTV48WUBu6",
        "outputId": "6c9b384a-cae3-4642-9b68-e3cd20fefdbb"
      },
      "outputs": [
        {
          "data": {
            "text/plain": [
              "array(['COW3', 'COW8', 'COW11', 'COW17', 'COW19'], dtype=object)"
            ]
          },
          "execution_count": 6,
          "metadata": {},
          "output_type": "execute_result"
        }
      ],
      "source": [
        "all_cows: list[str] = full_data[\"nickname\"].unique()\n",
        "all_cows"
      ]
    },
    {
      "cell_type": "markdown",
      "metadata": {
        "id": "QZmaXCHtUBu6"
      },
      "source": [
        "### Removing `\\n` values and lowercase all entries"
      ]
    },
    {
      "cell_type": "code",
      "execution_count": 7,
      "metadata": {
        "id": "KxdVE2pdUBu7"
      },
      "outputs": [],
      "source": [
        "full_data.replace(\n",
        "    to_replace=\"\\n\",\n",
        "    value=\"\",\n",
        "    regex=True,\n",
        "    inplace=True,\n",
        ")\n",
        "full_data[\"Behaviour\"] = full_data[\"Behaviour\"].str.lower()"
      ]
    },
    {
      "cell_type": "markdown",
      "metadata": {
        "id": "gGvouiIHUBu7"
      },
      "source": [
        "### Removing empty behaviours"
      ]
    },
    {
      "cell_type": "code",
      "execution_count": 8,
      "metadata": {
        "colab": {
          "base_uri": "https://localhost:8080/"
        },
        "id": "8Sy3YzGqUBu7",
        "outputId": "74ab2a75-16a6-412d-8f9b-2039a5d6aa5f"
      },
      "outputs": [
        {
          "name": "stdout",
          "output_type": "stream",
          "text": [
            "['g' 'w' 'o' 'i' 'r' 'd' 'u']\n",
            "Behaviour\n",
            "g    9000\n",
            "w    9000\n",
            "o    9000\n",
            "i    9000\n",
            "r    9000\n",
            "u    4720\n",
            "d    4030\n",
            "Name: count, dtype: int64\n"
          ]
        }
      ],
      "source": [
        "full_data = full_data.drop(\n",
        "    full_data[full_data[\"Behaviour\"] == \"\"].index,\n",
        "    inplace=False,\n",
        ")\n",
        "behaviour_col_values: np.ndarray = full_data[\"Behaviour\"].unique()\n",
        "print(behaviour_col_values)\n",
        "print((full_data[\"Behaviour\"].value_counts()))"
      ]
    },
    {
      "cell_type": "markdown",
      "metadata": {
        "id": "gca2cWgRjw2G"
      },
      "source": [
        "### Check for duplicated rows and null values"
      ]
    },
    {
      "cell_type": "code",
      "execution_count": 9,
      "metadata": {
        "colab": {
          "base_uri": "https://localhost:8080/"
        },
        "id": "FBcMF5Xmjw2G",
        "outputId": "c980529b-cce5-4fe2-89b9-7a1085b4f500"
      },
      "outputs": [
        {
          "name": "stdout",
          "output_type": "stream",
          "text": [
            "(0,) rows duplicated\n",
            "serial_number          0\n",
            "nickname               0\n",
            "animalID               0\n",
            "sample_rate            0\n",
            "timestamps             0\n",
            "Behaviour              0\n",
            "acc_axis1              0\n",
            "acc_axis2              0\n",
            "acc_axis3              0\n",
            "acc_mag                0\n",
            "lpf_axis1              0\n",
            "lpf_axis2              0\n",
            "lpf_axis3              0\n",
            "lpf_mag                0\n",
            "hpf_axis1              0\n",
            "hpf_axis2              0\n",
            "hpf_axis3              0\n",
            "hpf_mag                0\n",
            "spd_axis1              0\n",
            "spd_axis2              0\n",
            "spd_axis3              0\n",
            "spd_mag                0\n",
            "spd_axis1_denoised     0\n",
            "spd_axis2_denoised     0\n",
            "spd_axis3_denoised     0\n",
            "spd_mag_denoised       0\n",
            "dis_axis1              0\n",
            "dis_axis2              0\n",
            "dis_axis3              0\n",
            "dis_mag                0\n",
            "dis_axis1_denoised     0\n",
            "dis_axis2_denoised     0\n",
            "dis_axis3_denoised     0\n",
            "dis_mag_denoised       0\n",
            "tilt_axis1             0\n",
            "tilt_axis2             0\n",
            "tilt_axis3             0\n",
            "tilt_axis1_denoised    0\n",
            "tilt_axis2_denoised    0\n",
            "tilt_axis3_denoised    0\n",
            "dtype: int64\n",
            "serial_number          0\n",
            "nickname               0\n",
            "animalID               0\n",
            "sample_rate            0\n",
            "timestamps             0\n",
            "Behaviour              0\n",
            "acc_axis1              0\n",
            "acc_axis2              0\n",
            "acc_axis3              0\n",
            "acc_mag                0\n",
            "lpf_axis1              0\n",
            "lpf_axis2              0\n",
            "lpf_axis3              0\n",
            "lpf_mag                0\n",
            "hpf_axis1              0\n",
            "hpf_axis2              0\n",
            "hpf_axis3              0\n",
            "hpf_mag                0\n",
            "spd_axis1              0\n",
            "spd_axis2              0\n",
            "spd_axis3              0\n",
            "spd_mag                0\n",
            "spd_axis1_denoised     0\n",
            "spd_axis2_denoised     0\n",
            "spd_axis3_denoised     0\n",
            "spd_mag_denoised       0\n",
            "dis_axis1              0\n",
            "dis_axis2              0\n",
            "dis_axis3              0\n",
            "dis_mag                0\n",
            "dis_axis1_denoised     0\n",
            "dis_axis2_denoised     0\n",
            "dis_axis3_denoised     0\n",
            "dis_mag_denoised       0\n",
            "tilt_axis1             0\n",
            "tilt_axis2             0\n",
            "tilt_axis3             0\n",
            "tilt_axis1_denoised    0\n",
            "tilt_axis2_denoised    0\n",
            "tilt_axis3_denoised    0\n",
            "dtype: int64\n"
          ]
        }
      ],
      "source": [
        "duplicated_rows: pd.Series = full_data.duplicated()\n",
        "duplicated_rows = duplicated_rows[duplicated_rows == True]\n",
        "print(\"{} rows duplicated\".format(duplicated_rows.shape))\n",
        "\n",
        "full_data.drop_duplicates(inplace=True)\n",
        "\n",
        "print(full_data.isnull().sum())\n",
        "print(full_data.isna().sum())"
      ]
    },
    {
      "cell_type": "code",
      "execution_count": 10,
      "metadata": {
        "colab": {
          "base_uri": "https://localhost:8080/",
          "height": 147
        },
        "id": "hoL839Rdw3bh",
        "outputId": "8e1e0766-eedc-4892-af3b-8784cdded592"
      },
      "outputs": [
        {
          "data": {
            "text/html": [
              "<div>\n",
              "<style scoped>\n",
              "    .dataframe tbody tr th:only-of-type {\n",
              "        vertical-align: middle;\n",
              "    }\n",
              "\n",
              "    .dataframe tbody tr th {\n",
              "        vertical-align: top;\n",
              "    }\n",
              "\n",
              "    .dataframe thead th {\n",
              "        text-align: right;\n",
              "    }\n",
              "</style>\n",
              "<table border=\"1\" class=\"dataframe\">\n",
              "  <thead>\n",
              "    <tr style=\"text-align: right;\">\n",
              "      <th></th>\n",
              "      <th>serial_number</th>\n",
              "      <th>nickname</th>\n",
              "      <th>animalID</th>\n",
              "      <th>sample_rate</th>\n",
              "      <th>timestamps</th>\n",
              "      <th>Behaviour</th>\n",
              "      <th>acc_axis1</th>\n",
              "      <th>acc_axis2</th>\n",
              "      <th>acc_axis3</th>\n",
              "      <th>acc_mag</th>\n",
              "      <th>...</th>\n",
              "      <th>dis_axis1_denoised</th>\n",
              "      <th>dis_axis2_denoised</th>\n",
              "      <th>dis_axis3_denoised</th>\n",
              "      <th>dis_mag_denoised</th>\n",
              "      <th>tilt_axis1</th>\n",
              "      <th>tilt_axis2</th>\n",
              "      <th>tilt_axis3</th>\n",
              "      <th>tilt_axis1_denoised</th>\n",
              "      <th>tilt_axis2_denoised</th>\n",
              "      <th>tilt_axis3_denoised</th>\n",
              "    </tr>\n",
              "  </thead>\n",
              "  <tbody>\n",
              "    <tr>\n",
              "      <th>0</th>\n",
              "      <td>COW3_4_thur_final</td>\n",
              "      <td>COW3</td>\n",
              "      <td>3.0</td>\n",
              "      <td>30.0</td>\n",
              "      <td>2023-04-27 09:11:42.000000</td>\n",
              "      <td>g</td>\n",
              "      <td>-0.703</td>\n",
              "      <td>-0.539</td>\n",
              "      <td>0.227</td>\n",
              "      <td>0.914472</td>\n",
              "      <td>...</td>\n",
              "      <td>-10.99752</td>\n",
              "      <td>15.326401</td>\n",
              "      <td>-2.054346</td>\n",
              "      <td>18.975362</td>\n",
              "      <td>-60.483006</td>\n",
              "      <td>-24.392151</td>\n",
              "      <td>74.414919</td>\n",
              "      <td>-59.035276</td>\n",
              "      <td>-27.707135</td>\n",
              "      <td>77.272273</td>\n",
              "    </tr>\n",
              "  </tbody>\n",
              "</table>\n",
              "<p>1 rows × 40 columns</p>\n",
              "</div>"
            ],
            "text/plain": [
              "       serial_number nickname  animalID  sample_rate  \\\n",
              "0  COW3_4_thur_final     COW3       3.0         30.0   \n",
              "\n",
              "                   timestamps Behaviour  acc_axis1  acc_axis2  acc_axis3  \\\n",
              "0  2023-04-27 09:11:42.000000         g     -0.703     -0.539      0.227   \n",
              "\n",
              "    acc_mag  ...  dis_axis1_denoised  dis_axis2_denoised  dis_axis3_denoised  \\\n",
              "0  0.914472  ...           -10.99752           15.326401           -2.054346   \n",
              "\n",
              "   dis_mag_denoised  tilt_axis1  tilt_axis2  tilt_axis3  tilt_axis1_denoised  \\\n",
              "0         18.975362  -60.483006  -24.392151   74.414919           -59.035276   \n",
              "\n",
              "   tilt_axis2_denoised  tilt_axis3_denoised  \n",
              "0           -27.707135            77.272273  \n",
              "\n",
              "[1 rows x 40 columns]"
            ]
          },
          "execution_count": 10,
          "metadata": {},
          "output_type": "execute_result"
        }
      ],
      "source": [
        "full_data.head(1)"
      ]
    },
    {
      "cell_type": "markdown",
      "metadata": {
        "id": "9XbdS8JWjw2H"
      },
      "source": [
        "### Sort data based on date\n",
        "This ensure that actvities are read in a consecutive order and reseting the index of readings (rows)."
      ]
    },
    {
      "cell_type": "code",
      "execution_count": 11,
      "metadata": {
        "id": "Qyp2f8Rijw2H"
      },
      "outputs": [],
      "source": [
        "full_data.sort_values(\n",
        "    by=[\"timestamps\"],\n",
        "    ascending=True,\n",
        "    inplace=True,\n",
        ")\n",
        "\n",
        "full_data = full_data.reset_index(drop=True)"
      ]
    },
    {
      "cell_type": "markdown",
      "metadata": {
        "id": "PDnv3FAmjw2I"
      },
      "source": [
        "### Convert numerical values (input data) to float type"
      ]
    },
    {
      "cell_type": "code",
      "execution_count": 12,
      "metadata": {
        "colab": {
          "base_uri": "https://localhost:8080/"
        },
        "id": "6VaKnKKqjw2J",
        "outputId": "4ef7475a-b323-4abb-aa00-8baef6a58f4c"
      },
      "outputs": [
        {
          "data": {
            "text/plain": [
              "21"
            ]
          },
          "execution_count": 12,
          "metadata": {},
          "output_type": "execute_result"
        }
      ],
      "source": [
        "full_data.iloc[:, 6:] = full_data.iloc[:, 6:].astype(\"float\")\n",
        "# train_df: pd.DataFrame = full_data.copy()\n",
        "\n",
        "gc.collect()"
      ]
    },
    {
      "cell_type": "code",
      "execution_count": 13,
      "metadata": {
        "colab": {
          "base_uri": "https://localhost:8080/",
          "height": 489
        },
        "id": "fLq7Aw3wjw2J",
        "outputId": "de3b5bb2-cc86-4d8b-8c5b-b6c48769a5d4"
      },
      "outputs": [
        {
          "name": "stdout",
          "output_type": "stream",
          "text": [
            "['d' 'g' 'i' 'o' 'r' 'u' 'w']\n",
            "[4030 9000 9000 9000 9000 4720 9000]\n"
          ]
        },
        {
          "data": {
            "image/png": "[encoded data removed]",
            "text/plain": [
              "<Figure size 640x480 with 1 Axes>"
            ]
          },
          "metadata": {},
          "output_type": "display_data"
        }
      ],
      "source": [
        "# Class distribution, will use later but should use seaborn to show labels on columns.\n",
        "existing_labels: np.ndarray = full_data[\"Behaviour\"].to_numpy()\n",
        "\n",
        "existing_types, counts = np.unique(\n",
        "    existing_labels,\n",
        "    return_counts=True,\n",
        ")\n",
        "print(existing_types)\n",
        "print(counts)\n",
        "\n",
        "plt.title(\"Class distribution\")\n",
        "plt.bar(existing_types, counts)\n",
        "plt.show()"
      ]
    },
    {
      "cell_type": "markdown",
      "metadata": {
        "id": "W6sZKWk4jw2K",
        "outputId": "0f4c893b-fb8c-44af-bdc1-b6a6cf98cc59"
      },
      "source": [
        "### Handle minor classes\n",
        "Classes with smaller number of records will be either merged with another class or be removed completely."
      ]
    },
    {
      "cell_type": "code",
      "execution_count": 14,
      "metadata": {
        "colab": {
          "base_uri": "https://localhost:8080/"
        },
        "id": "GM5uUkrVjw2K",
        "outputId": "ee32f4c7-a555-4b0f-b210-53b3f251090b"
      },
      "outputs": [
        {
          "data": {
            "text/plain": [
              "3377"
            ]
          },
          "execution_count": 14,
          "metadata": {},
          "output_type": "execute_result"
        }
      ],
      "source": [
        "from utils import handle_minor_classes\n",
        "\n",
        "\n",
        "# full_data = handle_minor_classes(\n",
        "#     data=full_data,\n",
        "#     minor_classes=[\"u\"],\n",
        "#     type=\"remove\",\n",
        "# )\n",
        "full_data = handle_minor_classes(\n",
        "    data=full_data,\n",
        "    minor_classes=[\"d\", \"w\", \"u\"],\n",
        "    type=\"merge\",\n",
        ")\n",
        "gc.collect()"
      ]
    },
    {
      "cell_type": "code",
      "execution_count": 15,
      "metadata": {
        "colab": {
          "base_uri": "https://localhost:8080/",
          "height": 489
        },
        "id": "EIC8kRfujw2L",
        "outputId": "a6030551-b6a2-49fa-e2e4-4baf64eda974"
      },
      "outputs": [
        {
          "name": "stdout",
          "output_type": "stream",
          "text": [
            "['g' 'i' 'o' 'r']\n",
            "[ 9000  9000 26750  9000]\n"
          ]
        },
        {
          "data": {
            "image/png": "[encoded data removed]",
            "text/plain": [
              "<Figure size 640x480 with 1 Axes>"
            ]
          },
          "metadata": {},
          "output_type": "display_data"
        }
      ],
      "source": [
        "# Class distribution after dropping/merging minor classes.\n",
        "existing_labels: np.ndarray = full_data[\"Behaviour\"].to_numpy()\n",
        "\n",
        "existing_types, counts = np.unique(\n",
        "    existing_labels,\n",
        "    return_counts=True,\n",
        ")\n",
        "print(existing_types)\n",
        "print(counts)\n",
        "\n",
        "plt.title(\"Class distribution\")\n",
        "plt.bar(existing_types, counts)\n",
        "plt.show()"
      ]
    },
    {
      "cell_type": "code",
      "execution_count": 16,
      "metadata": {
        "colab": {
          "base_uri": "https://localhost:8080/",
          "height": 1000
        },
        "id": "INJhWyoaUBu9",
        "outputId": "3a0e223f-351c-47e2-b6ef-30929389ea96"
      },
      "outputs": [
        {
          "name": "stdout",
          "output_type": "stream",
          "text": [
            "['g' 'i' 'o' 'r']\n",
            "[2000 2000 4000 2000]\n"
          ]
        },
        {
          "data": {
            "image/png": "[encoded data removed]",
            "text/plain": [
              "<Figure size 640x480 with 1 Axes>"
            ]
          },
          "metadata": {},
          "output_type": "display_data"
        },
        {
          "name": "stdout",
          "output_type": "stream",
          "text": [
            "['g' 'i' 'o' 'r']\n",
            "[2000 2000 4000 2000]\n"
          ]
        },
        {
          "data": {
            "image/png": "[encoded data removed]",
            "text/plain": [
              "<Figure size 640x480 with 1 Axes>"
            ]
          },
          "metadata": {},
          "output_type": "display_data"
        },
        {
          "name": "stdout",
          "output_type": "stream",
          "text": [
            "['g' 'i' 'o' 'r']\n",
            "[1000 1000 4000 1000]\n"
          ]
        },
        {
          "data": {
            "image/png": "[encoded data removed]",
            "text/plain": [
              "<Figure size 640x480 with 1 Axes>"
            ]
          },
          "metadata": {},
          "output_type": "display_data"
        },
        {
          "name": "stdout",
          "output_type": "stream",
          "text": [
            "['g' 'i' 'o' 'r']\n",
            "[2000 2000 7720 2000]\n"
          ]
        },
        {
          "data": {
            "image/png": "[encoded data removed]",
            "text/plain": [
              "<Figure size 640x480 with 1 Axes>"
            ]
          },
          "metadata": {},
          "output_type": "display_data"
        },
        {
          "name": "stdout",
          "output_type": "stream",
          "text": [
            "['g' 'i' 'o' 'r']\n",
            "[2000 2000 7030 2000]\n"
          ]
        },
        {
          "data": {
            "image/png": "[encoded data removed]",
            "text/plain": [
              "<Figure size 640x480 with 1 Axes>"
            ]
          },
          "metadata": {},
          "output_type": "display_data"
        }
      ],
      "source": [
        "for cow in all_cows:\n",
        "    current_cow: pd.DataFrame = full_data.loc[full_data[\"nickname\"] == cow]\n",
        "\n",
        "    cow_labels: np.ndarray = current_cow[\"Behaviour\"].to_numpy()\n",
        "\n",
        "    cow_behaviours, counts = np.unique(\n",
        "        cow_labels,\n",
        "        return_counts=True,\n",
        "    )\n",
        "    print(cow_behaviours)\n",
        "    print(counts)\n",
        "\n",
        "    plt.title(\"Class distribution: {}\".format(cow.lower()))\n",
        "    plt.bar(cow_behaviours, counts)\n",
        "    plt.show()"
      ]
    },
    {
      "cell_type": "markdown",
      "metadata": {
        "id": "d2_wQIaRUBu9"
      },
      "source": [
        "### Encode classes using numerical values."
      ]
    },
    {
      "cell_type": "code",
      "execution_count": 17,
      "metadata": {
        "colab": {
          "base_uri": "https://localhost:8080/"
        },
        "id": "PXyerjkUjw2L",
        "outputId": "ccada0c0-ffe8-4fd8-b0f1-7f592113a6c4"
      },
      "outputs": [
        {
          "name": "stdout",
          "output_type": "stream",
          "text": [
            "[0 1 2 3]\n"
          ]
        }
      ],
      "source": [
        "label = LabelEncoder()\n",
        "full_data[\"label\"] = label.fit_transform(full_data[\"Behaviour\"])\n",
        "# unique_labels: np.ndarray = (\n",
        "#     full_data.groupby([\"Behaviour\", \"label\"])\n",
        "#     .size()\n",
        "#     .reset_index()[\"Behaviour\"]\n",
        "#     .to_numpy()\n",
        "# )\n",
        "\n",
        "\n",
        "unique_labels: np.ndarray = full_data[\"label\"].unique()\n",
        "unique_labels.sort()\n",
        "\n",
        "print(unique_labels)"
      ]
    },
    {
      "cell_type": "markdown",
      "metadata": {
        "id": "oAk0udkfUBu-"
      },
      "source": [
        "### Split cows data into folds for k-fold cross validation.\n",
        "This process will also remove unnecessary columns and keep only data that will be used for inference."
      ]
    },
    {
      "cell_type": "code",
      "execution_count": 18,
      "metadata": {
        "colab": {
          "base_uri": "https://localhost:8080/"
        },
        "id": "SRLSfxDvUBu-",
        "outputId": "b502305b-93aa-41a5-cfe2-8041c22ac917"
      },
      "outputs": [
        {
          "data": {
            "text/plain": [
              "9821"
            ]
          },
          "execution_count": 18,
          "metadata": {},
          "output_type": "execute_result"
        }
      ],
      "source": [
        "folds: dict[str, pd.DataFrame] = {}\n",
        "columns: list = full_data.columns[6:]\n",
        "\n",
        "for cow in all_cows:\n",
        "    # For each unique cow, assign its data into a separate dataframe and\n",
        "    # remove unnecessary columns.\n",
        "    folds[cow] = full_data.loc[full_data[\"nickname\"] == cow]\n",
        "    folds[cow] = folds[cow][columns]\n",
        "\n",
        "# TODO: Remove data of Cow 11 as it has insufficient amount of data for cross validation.\n",
        "# folds.pop(\"COW11\")\n",
        "# TODO: Remember to delete the full_data dataframe to avoid overflow error.\n",
        "del full_data\n",
        "gc.collect()"
      ]
    },
    {
      "cell_type": "code",
      "execution_count": 19,
      "metadata": {
        "colab": {
          "base_uri": "https://localhost:8080/"
        },
        "id": "UiZxN-kUUBu-",
        "outputId": "4b6420d2-134c-4b88-e77c-3c0d4f84d58d"
      },
      "outputs": [
        {
          "name": "stdout",
          "output_type": "stream",
          "text": [
            "COW3\n",
            "COW8\n",
            "COW11\n",
            "COW17\n",
            "COW19\n"
          ]
        }
      ],
      "source": [
        "for c in folds.keys():\n",
        "    print(c)"
      ]
    },
    {
      "cell_type": "markdown",
      "metadata": {
        "id": "Peqjb6e3UBu-"
      },
      "source": [
        "### Standardize data."
      ]
    },
    {
      "cell_type": "code",
      "execution_count": 20,
      "metadata": {
        "colab": {
          "base_uri": "https://localhost:8080/"
        },
        "id": "WN2JE0zaUBu-",
        "outputId": "5fdc518f-1f08-4418-f72c-a3bb36b0f05b"
      },
      "outputs": [
        {
          "data": {
            "text/plain": [
              "0"
            ]
          },
          "execution_count": 20,
          "metadata": {},
          "output_type": "execute_result"
        }
      ],
      "source": [
        "from utils import standardize_dataframe\n",
        "\n",
        "for cow in folds.keys():\n",
        "    standardized_dataframes: pd.DataFrame = standardize_dataframe(\n",
        "        data=folds[cow],\n",
        "        std_cols=columns[:-1],\n",
        "    )\n",
        "    folds[cow] = standardized_dataframes\n",
        "\n",
        "gc.collect()"
      ]
    },
    {
      "cell_type": "code",
      "execution_count": 21,
      "metadata": {
        "colab": {
          "base_uri": "https://localhost:8080/"
        },
        "id": "8FoTQTjBUBu_",
        "outputId": "fc3d124c-e0b5-4ba6-90e4-a920608e55ec"
      },
      "outputs": [
        {
          "name": "stdout",
          "output_type": "stream",
          "text": [
            "<class 'pandas.core.frame.DataFrame'>\n",
            "RangeIndex: 10000 entries, 0 to 9999\n",
            "Data columns (total 35 columns):\n",
            " #   Column               Non-Null Count  Dtype  \n",
            "---  ------               --------------  -----  \n",
            " 0   acc_axis1            10000 non-null  float64\n",
            " 1   acc_axis2            10000 non-null  float64\n",
            " 2   acc_axis3            10000 non-null  float64\n",
            " 3   acc_mag              10000 non-null  float64\n",
            " 4   lpf_axis1            10000 non-null  float64\n",
            " 5   lpf_axis2            10000 non-null  float64\n",
            " 6   lpf_axis3            10000 non-null  float64\n",
            " 7   lpf_mag              10000 non-null  float64\n",
            " 8   hpf_axis1            10000 non-null  float64\n",
            " 9   hpf_axis2            10000 non-null  float64\n",
            " 10  hpf_axis3            10000 non-null  float64\n",
            " 11  hpf_mag              10000 non-null  float64\n",
            " 12  spd_axis1            10000 non-null  float64\n",
            " 13  spd_axis2            10000 non-null  float64\n",
            " 14  spd_axis3            10000 non-null  float64\n",
            " 15  spd_mag              10000 non-null  float64\n",
            " 16  spd_axis1_denoised   10000 non-null  float64\n",
            " 17  spd_axis2_denoised   10000 non-null  float64\n",
            " 18  spd_axis3_denoised   10000 non-null  float64\n",
            " 19  spd_mag_denoised     10000 non-null  float64\n",
            " 20  dis_axis1            10000 non-null  float64\n",
            " 21  dis_axis2            10000 non-null  float64\n",
            " 22  dis_axis3            10000 non-null  float64\n",
            " 23  dis_mag              10000 non-null  float64\n",
            " 24  dis_axis1_denoised   10000 non-null  float64\n",
            " 25  dis_axis2_denoised   10000 non-null  float64\n",
            " 26  dis_axis3_denoised   10000 non-null  float64\n",
            " 27  dis_mag_denoised     10000 non-null  float64\n",
            " 28  tilt_axis1           10000 non-null  float64\n",
            " 29  tilt_axis2           10000 non-null  float64\n",
            " 30  tilt_axis3           10000 non-null  float64\n",
            " 31  tilt_axis1_denoised  10000 non-null  float64\n",
            " 32  tilt_axis2_denoised  10000 non-null  float64\n",
            " 33  tilt_axis3_denoised  10000 non-null  float64\n",
            " 34  label                10000 non-null  float64\n",
            "dtypes: float64(35)\n",
            "memory usage: 2.7 MB\n"
          ]
        }
      ],
      "source": [
        "folds[\"COW3\"].info()"
      ]
    },
    {
      "cell_type": "code",
      "execution_count": 22,
      "metadata": {
        "colab": {
          "base_uri": "https://localhost:8080/",
          "height": 489
        },
        "id": "sLgkPKTHUBu_",
        "outputId": "5af8a579-4f43-444e-8b99-a8f4f8b66097"
      },
      "outputs": [
        {
          "name": "stdout",
          "output_type": "stream",
          "text": [
            "['COW3', 'COW8', 'COW11', 'COW17', 'COW19']\n",
            "[10000, 10000, 7000, 13720, 13030]\n"
          ]
        },
        {
          "data": {
            "image/png": "[encoded data removed]",
            "text/plain": [
              "<Figure size 640x480 with 1 Axes>"
            ]
          },
          "metadata": {},
          "output_type": "display_data"
        }
      ],
      "source": [
        "selected_cows: list[str] = list(folds.keys())\n",
        "no_of_readings_per_cow: list[int] = [len(folds[c]) for c in selected_cows]\n",
        "\n",
        "print(selected_cows)\n",
        "print(no_of_readings_per_cow)\n",
        "\n",
        "plt.title(\"Folds distributions\")\n",
        "plt.bar(selected_cows, no_of_readings_per_cow)\n",
        "plt.show()"
      ]
    },
    {
      "cell_type": "markdown",
      "metadata": {
        "id": "rvdqM3-gOr8n"
      },
      "source": [
        "## Train-test setup."
      ]
    },
    {
      "cell_type": "markdown",
      "metadata": {
        "id": "VskaFKDEUBu_"
      },
      "source": [
        "### Hyper-parameters"
      ]
    },
    {
      "cell_type": "code",
      "execution_count": 23,
      "metadata": {
        "id": "P6P4PybtUBu_"
      },
      "outputs": [],
      "source": [
        "window_size: int = 600  # 300: 10 seconds\n",
        "window_per_epoch: int = 200\n",
        "epoch: int = 150\n",
        "batch_size: int = 64\n",
        "# random.seed(715) # 715 looks good.\n",
        "random.seed(785)  # 785 makes \"other\" looks bad, otherwise is good."
      ]
    },
    {
      "cell_type": "markdown",
      "metadata": {
        "id": "JH3fJ59gUBu_"
      },
      "source": [
        "### Output folder\n",
        "Output files will be stored in the same folder named `out`."
      ]
    },
    {
      "cell_type": "code",
      "execution_count": 24,
      "metadata": {
        "id": "arwvt0YkUBvE"
      },
      "outputs": [],
      "source": [
        "import os\n",
        "\n",
        "# Check if the folder is already exists.\n",
        "if os.path.isdir(\"./out\"):\n",
        "    pass\n",
        "else:\n",
        "    os.mkdir(\"./out/\")\n",
        "    for c in all_cows:\n",
        "        os.mkdir(\"./out/{}/\".format(c.lower()))"
      ]
    },
    {
      "cell_type": "markdown",
      "metadata": {
        "id": "Lwl4lvfmUBvE"
      },
      "source": [
        "## Train and validate the model."
      ]
    },
    {
      "cell_type": "markdown",
      "metadata": {
        "id": "3qhgIDi3UBvE"
      },
      "source": [
        "### Train-test loop with k-fold cross validation.\n",
        "Each fold will be selected as the validation set and an entire train-test loop will be run using that setup. After each run, metrics are collected and the confusion matrix will be plotted. This will be repeated until all the folds are used."
      ]
    },
    {
      "cell_type": "code",
      "execution_count": 25,
      "metadata": {
        "colab": {
          "base_uri": "https://localhost:8080/",
          "height": 1000,
          "referenced_widgets": [
            "2e529b0dcb234e2a892224c8292ae815",
            "8d508aec1b3d4a95a7e6f81d2d6c0911",
            "298495f70f104d8eaae32172cbbcb931",
            "e01562f3746c451ba9ea39b15c7a8f93",
            "7ff94400fee84980a2ba861838744373",
            "da8a1684b79943baa4bfab0ee730b4b7",
            "3eaf0dd51fed402f870e3d7096208db3",
            "486fd38bb31e4c5eaf56457b2154f488",
            "e9351815215b452ba4fc0f50ead8fdf9",
            "38c3880e506e43a78a5adb0d23b093a7",
            "ad7b512a849d4febbe982fa8635fbceb"
          ]
        },
        "id": "SctOMfYxUBvE",
        "outputId": "ea9092a5-cc60-472c-ab9f-67e94c258d22"
      },
      "outputs": [
        {
          "data": {
            "application/vnd.jupyter.widget-view+json": {
              "model_id": "86a9f6c7e5944c7dbe7bd5f8c23c0e29",
              "version_major": 2,
              "version_minor": 0
            },
            "text/plain": [
              "  0%|          | 0/150 [00:00<?, ?it/s]"
            ]
          },
          "metadata": {},
          "output_type": "display_data"
        },
        {
          "name": "stdout",
          "output_type": "stream",
          "text": [
            "1/1 [==============================] - 0s 115ms/step\n",
            "Testing accuracy: 0.9906349182128906\n"
          ]
        },
        {
          "data": {
            "text/plain": [
              "52"
            ]
          },
          "execution_count": 25,
          "metadata": {},
          "output_type": "execute_result"
        },
        {
          "data": {
            "image/png": "[encoded data removed]",
            "text/plain": [
              "<Figure size 640x480 with 2 Axes>"
            ]
          },
          "metadata": {},
          "output_type": "display_data"
        },
        {
          "data": {
            "image/png": "[encoded data removed]",
            "text/plain": [
              "<Figure size 640x480 with 2 Axes>"
            ]
          },
          "metadata": {},
          "output_type": "display_data"
        }
      ],
      "source": [
        "from tqdm.notebook import tqdm\n",
        "from custom_model import CowModel\n",
        "from inference import Inference\n",
        "from utils import get_frame, get_sequential_frame\n",
        "from utils import plot_confusion_matrix\n",
        "import logging\n",
        "\n",
        "# random.seed(715) # 715 looks good.\n",
        "random.seed(785)  # 785 makes \"other\" looks bad, otherwise is good.\n",
        "\n",
        "all_cm: list[np.ndarray] = []\n",
        "\n",
        "# NOTE: For loop can be used to implement k-fold cross validation.\n",
        "# for cow in train_val_cows:\n",
        "# for c in tqdm(range(len(selected_cows))):\n",
        "\n",
        "c: int = selected_cows.index(\"COW19\")\n",
        "# Create a new set of metrics, a new model and a new inference engine for each\n",
        "# fold iteration.\n",
        "accumulated_metrics: dict[str, list] = {\n",
        "    \"train_loss\": [],\n",
        "    \"train_accuracy\": [],\n",
        "    \"val_loss\": [],\n",
        "    \"val_accuracy\": [],\n",
        "}\n",
        "model: tf.keras.Model = CowModel(output_dim=len(existing_types))\n",
        "engine: Inference = Inference(\n",
        "    model=model,\n",
        "    loss_function=tf.keras.losses.SparseCategoricalCrossentropy(from_logits=True),\n",
        "    loss_metric=tf.keras.metrics.Mean(),\n",
        "    optimizer=tf.keras.optimizers.Adam(),\n",
        "    accuracy=tf.keras.metrics.SparseCategoricalAccuracy(),\n",
        "    batch_size=32,\n",
        ")\n",
        "\n",
        "# Select cows for training and testing then build datasets.\n",
        "# train_cows: list = list(filter(lambda x: (x != selected_cows[c]), selected_cows))\n",
        "train_cows: list = selected_cows.copy()\n",
        "val_cows: list = list(filter(lambda x: (x == selected_cows[c]), selected_cows))\n",
        "\n",
        "train_data: pd.DataFrame = pd.concat(\n",
        "    objs=[folds[i] for i in train_cows],\n",
        "    ignore_index=True,\n",
        "    sort=True,\n",
        ")\n",
        "val_data: pd.DataFrame = pd.concat(\n",
        "    objs=[folds[i] for i in val_cows],\n",
        "    ignore_index=True,\n",
        "    sort=True,\n",
        ")\n",
        "\n",
        "# Train, validate and collect metrics.\n",
        "for i in tqdm(range(epoch), leave=False):\n",
        "    # Generate frames for training and testing dataset.\n",
        "    x_train, y_train = get_frame(\n",
        "        df=train_data,\n",
        "        window_size=window_size,\n",
        "        window_per_epoch=window_per_epoch,\n",
        "    )\n",
        "    x_val, y_val = get_frame(\n",
        "        df=val_data,\n",
        "        window_size=window_size,\n",
        "        window_per_epoch=window_per_epoch,\n",
        "    )\n",
        "    gc.collect()\n",
        "\n",
        "    # Create datasets and use them to train the model. Finally, collect metrics.\n",
        "    train_ds = tf.data.Dataset.from_tensor_slices((x_train, y_train)).batch(batch_size)\n",
        "    validate_ds = tf.data.Dataset.from_tensor_slices((x_val, y_val)).batch(batch_size)\n",
        "    metrics: dict[str, list] = engine.train_val(\n",
        "        train_data=train_ds,\n",
        "        val_data=validate_ds,\n",
        "        epoch=1,\n",
        "    )\n",
        "    accumulated_metrics[\"train_loss\"].extend(metrics[\"train_loss\"])\n",
        "    accumulated_metrics[\"train_accuracy\"].extend(metrics[\"train_accuracy\"])\n",
        "    accumulated_metrics[\"val_loss\"].extend(metrics[\"val_loss\"])\n",
        "    accumulated_metrics[\"val_accuracy\"].extend(metrics[\"val_accuracy\"])\n",
        "\n",
        "# Test the model with the current fold.\n",
        "x_test, y_test = get_sequential_frame(\n",
        "    df=val_data,\n",
        "    window_size=window_size,\n",
        ")\n",
        "test_ds = tf.data.Dataset.from_tensor_slices((x_test, y_test)).batch(batch_size)\n",
        "test_result: dict = engine.test(test_data=test_ds)\n",
        "\n",
        "# Flatten the windows to create the confusion matrix.\n",
        "data: list = []\n",
        "labels: list = []\n",
        "\n",
        "for datum_batch, label_batch in test_ds:\n",
        "    data.append(datum_batch)\n",
        "    labels.append(label_batch)\n",
        "\n",
        "# Process test results and output confusion matrices.\n",
        "predict_data: np.ndarray = np.concatenate(data)\n",
        "predict_labels: np.ndarray = np.concatenate(labels)\n",
        "y_pred: np.ndarray = model.predict(predict_data)\n",
        "y_test_cm: tf.Tensor = tf.reshape(\n",
        "    tensor=predict_labels,\n",
        "    shape=(-1),\n",
        ")\n",
        "\n",
        "y_pred_cm: tf.Tensor = (\n",
        "    tf.math.argmax(\n",
        "        y_pred,\n",
        "        axis=2,\n",
        "        output_type=tf.int64,\n",
        "    ),\n",
        ")[0]\n",
        "y_pred_cm = tf.reshape(\n",
        "    tensor=y_pred_cm,\n",
        "    shape=(-1),\n",
        ")\n",
        "title: str = \"Custom train-test loop, random epochs\\nwindow size: {}, {} per epoch, {} epochs\\n{}\".format(\n",
        "    window_size,\n",
        "    window_per_epoch,\n",
        "    epoch,\n",
        "    selected_cows[c],\n",
        ")\n",
        "\n",
        "cm: np.ndarray = plot_confusion_matrix(\n",
        "    actual=y_test_cm,\n",
        "    pred=y_pred_cm,\n",
        "    unique_numerical_labels=unique_labels,\n",
        "    display_labels=existing_types,\n",
        "    normalize=\"true\",\n",
        "    title=title,\n",
        "    export=\"./out/{}/{}_cm.png\".format(selected_cows[c].lower(), selected_cows[c]),\n",
        ")\n",
        "\n",
        "all_cm.append(cm)\n",
        "\n",
        "plot_confusion_matrix(\n",
        "    actual=y_test_cm,\n",
        "    pred=y_pred_cm,\n",
        "    unique_numerical_labels=unique_labels,\n",
        "    display_labels=existing_types,\n",
        "    normalize=None,\n",
        "    title=title,\n",
        "    export=\"./out/{}/{}_cm_raw.png\".format(selected_cows[c].lower(), selected_cows[c]),\n",
        ")\n",
        "\n",
        "print(\"Testing accuracy: {}\".format(test_result[\"test_accuracy\"][0]))\n",
        "\n",
        "gc.collect()"
      ]
    },
    {
      "cell_type": "code",
      "execution_count": 26,
      "metadata": {
        "colab": {
          "base_uri": "https://localhost:8080/",
          "height": 472
        },
        "id": "TwNZQZpyUBvF",
        "outputId": "71aa224c-7936-41b1-ea10-1ccc4d80a962"
      },
      "outputs": [
        {
          "data": {
            "image/png": "[encoded data removed]",
            "text/plain": [
              "<Figure size 640x480 with 2 Axes>"
            ]
          },
          "metadata": {},
          "output_type": "display_data"
        }
      ],
      "source": [
        "avg_conf: np.ndarray = np.mean(\n",
        "    a=all_cm,\n",
        "    axis=0,\n",
        ")\n",
        "\n",
        "fig, ax = plt.subplots()\n",
        "ax.set_title(label=\"Average confusion matrix\")\n",
        "cmd = ConfusionMatrixDisplay(avg_conf, display_labels=existing_types)\n",
        "cmd.plot(cmap=plt.cm.Blues, ax=ax, values_format=\".2f\")\n",
        "\n",
        "plt.savefig(\n",
        "    \"./out/avg_cm.png\",\n",
        "    bbox_inches=\"tight\",\n",
        ")"
      ]
    },
    {
      "cell_type": "code",
      "execution_count": 27,
      "metadata": {
        "id": "MInYJNzMUBvF"
      },
      "outputs": [],
      "source": [
        "model.save(\"./out/cow_model.keras\")"
      ]
    }
  ],
  "metadata": {
    "colab": {
      "provenance": []
    },
    "kernelspec": {
      "display_name": "Python 3",
      "language": "python",
      "name": "python3"
    },
    "language_info": {
      "codemirror_mode": {
        "name": "ipython",
        "version": 3
      },
      "file_extension": ".py",
      "mimetype": "text/x-python",
      "name": "python",
      "nbconvert_exporter": "python",
      "pygments_lexer": "ipython3",
      "version": "3.9.18"
    },
    "widgets": {
      "application/vnd.jupyter.widget-state+json": {
        "298495f70f104d8eaae32172cbbcb931": {
          "model_module": "@jupyter-widgets/controls",
          "model_module_version": "1.5.0",
          "model_name": "FloatProgressModel",
          "state": {
            "_dom_classes": [],
            "_model_module": "@jupyter-widgets/controls",
            "_model_module_version": "1.5.0",
            "_model_name": "FloatProgressModel",
            "_view_count": null,
            "_view_module": "@jupyter-widgets/controls",
            "_view_module_version": "1.5.0",
            "_view_name": "ProgressView",
            "bar_style": "",
            "description": "",
            "description_tooltip": null,
            "layout": "IPY_MODEL_486fd38bb31e4c5eaf56457b2154f488",
            "max": 150,
            "min": 0,
            "orientation": "horizontal",
            "style": "IPY_MODEL_e9351815215b452ba4fc0f50ead8fdf9",
            "value": 150
          }
        },
        "2e529b0dcb234e2a892224c8292ae815": {
          "model_module": "@jupyter-widgets/controls",
          "model_module_version": "1.5.0",
          "model_name": "HBoxModel",
          "state": {
            "_dom_classes": [],
            "_model_module": "@jupyter-widgets/controls",
            "_model_module_version": "1.5.0",
            "_model_name": "HBoxModel",
            "_view_count": null,
            "_view_module": "@jupyter-widgets/controls",
            "_view_module_version": "1.5.0",
            "_view_name": "HBoxView",
            "box_style": "",
            "children": [
              "IPY_MODEL_8d508aec1b3d4a95a7e6f81d2d6c0911",
              "IPY_MODEL_298495f70f104d8eaae32172cbbcb931",
              "IPY_MODEL_e01562f3746c451ba9ea39b15c7a8f93"
            ],
            "layout": "IPY_MODEL_7ff94400fee84980a2ba861838744373"
          }
        },
        "38c3880e506e43a78a5adb0d23b093a7": {
          "model_module": "@jupyter-widgets/base",
          "model_module_version": "1.2.0",
          "model_name": "LayoutModel",
          "state": {
            "_model_module": "@jupyter-widgets/base",
            "_model_module_version": "1.2.0",
            "_model_name": "LayoutModel",
            "_view_count": null,
            "_view_module": "@jupyter-widgets/base",
            "_view_module_version": "1.2.0",
            "_view_name": "LayoutView",
            "align_content": null,
            "align_items": null,
            "align_self": null,
            "border": null,
            "bottom": null,
            "display": null,
            "flex": null,
            "flex_flow": null,
            "grid_area": null,
            "grid_auto_columns": null,
            "grid_auto_flow": null,
            "grid_auto_rows": null,
            "grid_column": null,
            "grid_gap": null,
            "grid_row": null,
            "grid_template_areas": null,
            "grid_template_columns": null,
            "grid_template_rows": null,
            "height": null,
            "justify_content": null,
            "justify_items": null,
            "left": null,
            "margin": null,
            "max_height": null,
            "max_width": null,
            "min_height": null,
            "min_width": null,
            "object_fit": null,
            "object_position": null,
            "order": null,
            "overflow": null,
            "overflow_x": null,
            "overflow_y": null,
            "padding": null,
            "right": null,
            "top": null,
            "visibility": null,
            "width": null
          }
        },
        "3eaf0dd51fed402f870e3d7096208db3": {
          "model_module": "@jupyter-widgets/controls",
          "model_module_version": "1.5.0",
          "model_name": "DescriptionStyleModel",
          "state": {
            "_model_module": "@jupyter-widgets/controls",
            "_model_module_version": "1.5.0",
            "_model_name": "DescriptionStyleModel",
            "_view_count": null,
            "_view_module": "@jupyter-widgets/base",
            "_view_module_version": "1.2.0",
            "_view_name": "StyleView",
            "description_width": ""
          }
        },
        "486fd38bb31e4c5eaf56457b2154f488": {
          "model_module": "@jupyter-widgets/base",
          "model_module_version": "1.2.0",
          "model_name": "LayoutModel",
          "state": {
            "_model_module": "@jupyter-widgets/base",
            "_model_module_version": "1.2.0",
            "_model_name": "LayoutModel",
            "_view_count": null,
            "_view_module": "@jupyter-widgets/base",
            "_view_module_version": "1.2.0",
            "_view_name": "LayoutView",
            "align_content": null,
            "align_items": null,
            "align_self": null,
            "border": null,
            "bottom": null,
            "display": null,
            "flex": null,
            "flex_flow": null,
            "grid_area": null,
            "grid_auto_columns": null,
            "grid_auto_flow": null,
            "grid_auto_rows": null,
            "grid_column": null,
            "grid_gap": null,
            "grid_row": null,
            "grid_template_areas": null,
            "grid_template_columns": null,
            "grid_template_rows": null,
            "height": null,
            "justify_content": null,
            "justify_items": null,
            "left": null,
            "margin": null,
            "max_height": null,
            "max_width": null,
            "min_height": null,
            "min_width": null,
            "object_fit": null,
            "object_position": null,
            "order": null,
            "overflow": null,
            "overflow_x": null,
            "overflow_y": null,
            "padding": null,
            "right": null,
            "top": null,
            "visibility": null,
            "width": null
          }
        },
        "7ff94400fee84980a2ba861838744373": {
          "model_module": "@jupyter-widgets/base",
          "model_module_version": "1.2.0",
          "model_name": "LayoutModel",
          "state": {
            "_model_module": "@jupyter-widgets/base",
            "_model_module_version": "1.2.0",
            "_model_name": "LayoutModel",
            "_view_count": null,
            "_view_module": "@jupyter-widgets/base",
            "_view_module_version": "1.2.0",
            "_view_name": "LayoutView",
            "align_content": null,
            "align_items": null,
            "align_self": null,
            "border": null,
            "bottom": null,
            "display": null,
            "flex": null,
            "flex_flow": null,
            "grid_area": null,
            "grid_auto_columns": null,
            "grid_auto_flow": null,
            "grid_auto_rows": null,
            "grid_column": null,
            "grid_gap": null,
            "grid_row": null,
            "grid_template_areas": null,
            "grid_template_columns": null,
            "grid_template_rows": null,
            "height": null,
            "justify_content": null,
            "justify_items": null,
            "left": null,
            "margin": null,
            "max_height": null,
            "max_width": null,
            "min_height": null,
            "min_width": null,
            "object_fit": null,
            "object_position": null,
            "order": null,
            "overflow": null,
            "overflow_x": null,
            "overflow_y": null,
            "padding": null,
            "right": null,
            "top": null,
            "visibility": "hidden",
            "width": null
          }
        },
        "8d508aec1b3d4a95a7e6f81d2d6c0911": {
          "model_module": "@jupyter-widgets/controls",
          "model_module_version": "1.5.0",
          "model_name": "HTMLModel",
          "state": {
            "_dom_classes": [],
            "_model_module": "@jupyter-widgets/controls",
            "_model_module_version": "1.5.0",
            "_model_name": "HTMLModel",
            "_view_count": null,
            "_view_module": "@jupyter-widgets/controls",
            "_view_module_version": "1.5.0",
            "_view_name": "HTMLView",
            "description": "",
            "description_tooltip": null,
            "layout": "IPY_MODEL_da8a1684b79943baa4bfab0ee730b4b7",
            "placeholder": "​",
            "style": "IPY_MODEL_3eaf0dd51fed402f870e3d7096208db3",
            "value": "100%"
          }
        },
        "ad7b512a849d4febbe982fa8635fbceb": {
          "model_module": "@jupyter-widgets/controls",
          "model_module_version": "1.5.0",
          "model_name": "DescriptionStyleModel",
          "state": {
            "_model_module": "@jupyter-widgets/controls",
            "_model_module_version": "1.5.0",
            "_model_name": "DescriptionStyleModel",
            "_view_count": null,
            "_view_module": "@jupyter-widgets/base",
            "_view_module_version": "1.2.0",
            "_view_name": "StyleView",
            "description_width": ""
          }
        },
        "da8a1684b79943baa4bfab0ee730b4b7": {
          "model_module": "@jupyter-widgets/base",
          "model_module_version": "1.2.0",
          "model_name": "LayoutModel",
          "state": {
            "_model_module": "@jupyter-widgets/base",
            "_model_module_version": "1.2.0",
            "_model_name": "LayoutModel",
            "_view_count": null,
            "_view_module": "@jupyter-widgets/base",
            "_view_module_version": "1.2.0",
            "_view_name": "LayoutView",
            "align_content": null,
            "align_items": null,
            "align_self": null,
            "border": null,
            "bottom": null,
            "display": null,
            "flex": null,
            "flex_flow": null,
            "grid_area": null,
            "grid_auto_columns": null,
            "grid_auto_flow": null,
            "grid_auto_rows": null,
            "grid_column": null,
            "grid_gap": null,
            "grid_row": null,
            "grid_template_areas": null,
            "grid_template_columns": null,
            "grid_template_rows": null,
            "height": null,
            "justify_content": null,
            "justify_items": null,
            "left": null,
            "margin": null,
            "max_height": null,
            "max_width": null,
            "min_height": null,
            "min_width": null,
            "object_fit": null,
            "object_position": null,
            "order": null,
            "overflow": null,
            "overflow_x": null,
            "overflow_y": null,
            "padding": null,
            "right": null,
            "top": null,
            "visibility": null,
            "width": null
          }
        },
        "e01562f3746c451ba9ea39b15c7a8f93": {
          "model_module": "@jupyter-widgets/controls",
          "model_module_version": "1.5.0",
          "model_name": "HTMLModel",
          "state": {
            "_dom_classes": [],
            "_model_module": "@jupyter-widgets/controls",
            "_model_module_version": "1.5.0",
            "_model_name": "HTMLModel",
            "_view_count": null,
            "_view_module": "@jupyter-widgets/controls",
            "_view_module_version": "1.5.0",
            "_view_name": "HTMLView",
            "description": "",
            "description_tooltip": null,
            "layout": "IPY_MODEL_38c3880e506e43a78a5adb0d23b093a7",
            "placeholder": "​",
            "style": "IPY_MODEL_ad7b512a849d4febbe982fa8635fbceb",
            "value": " 150/150 [06:35&lt;00:00,  2.68s/it]"
          }
        },
        "e9351815215b452ba4fc0f50ead8fdf9": {
          "model_module": "@jupyter-widgets/controls",
          "model_module_version": "1.5.0",
          "model_name": "ProgressStyleModel",
          "state": {
            "_model_module": "@jupyter-widgets/controls",
            "_model_module_version": "1.5.0",
            "_model_name": "ProgressStyleModel",
            "_view_count": null,
            "_view_module": "@jupyter-widgets/base",
            "_view_module_version": "1.2.0",
            "_view_name": "StyleView",
            "bar_color": null,
            "description_width": ""
          }
        }
      }
    }
  },
  "nbformat": 4,
  "nbformat_minor": 0
}
