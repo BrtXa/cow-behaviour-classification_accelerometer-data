{
 "cells": [
  {
   "cell_type": "code",
   "execution_count": 12,
   "metadata": {},
   "outputs": [
    {
     "name": "stdout",
     "output_type": "stream",
     "text": [
      "has 0 differences.\n"
     ]
    }
   ],
   "source": [
    "import numpy\n",
    "\n",
    "old_file: numpy.ndarray = numpy.loadtxt(\n",
    "    fname=\"../../../../data/MOS2E03230475.txt\",\n",
    "    delimiter=\",\",\n",
    "    dtype=str,\n",
    ")\n",
    "new_file: numpy.ndarray = numpy.loadtxt(\n",
    "    fname=\"../data_labelling/out/MOS2E03230475.txt\",\n",
    "    delimiter=\",\",\n",
    "    dtype=str,\n",
    ")\n",
    "count: int = 0\n",
    "for new, old in zip(new_file, old_file):\n",
    "    if new != old:\n",
    "        count += 1 \n",
    "\n",
    "print(\"has {} differences.\".format(count))"
   ]
  },
  {
   "cell_type": "code",
   "execution_count": 5,
   "metadata": {},
   "outputs": [
    {
     "name": "stderr",
     "output_type": "stream",
     "text": [
      "2024-01-11 05:44:53.763261: I external/local_tsl/tsl/cuda/cudart_stub.cc:31] Could not find cuda drivers on your machine, GPU will not be used.\n",
      "2024-01-11 05:44:53.784371: E external/local_xla/xla/stream_executor/cuda/cuda_dnn.cc:9261] Unable to register cuDNN factory: Attempting to register factory for plugin cuDNN when one has already been registered\n",
      "2024-01-11 05:44:53.784411: E external/local_xla/xla/stream_executor/cuda/cuda_fft.cc:607] Unable to register cuFFT factory: Attempting to register factory for plugin cuFFT when one has already been registered\n",
      "2024-01-11 05:44:53.785458: E external/local_xla/xla/stream_executor/cuda/cuda_blas.cc:1515] Unable to register cuBLAS factory: Attempting to register factory for plugin cuBLAS when one has already been registered\n",
      "2024-01-11 05:44:53.790200: I external/local_tsl/tsl/cuda/cudart_stub.cc:31] Could not find cuda drivers on your machine, GPU will not be used.\n",
      "2024-01-11 05:44:53.790730: I tensorflow/core/platform/cpu_feature_guard.cc:182] This TensorFlow binary is optimized to use available CPU instructions in performance-critical operations.\n",
      "To enable the following instructions: AVX2 FMA, in other operations, rebuild TensorFlow with the appropriate compiler flags.\n",
      "2024-01-11 05:44:54.541459: W tensorflow/compiler/tf2tensorrt/utils/py_utils.cc:38] TF-TRT Warning: Could not find TensorRT\n"
     ]
    },
    {
     "name": "stdout",
     "output_type": "stream",
     "text": [
      "WARNING:tensorflow:No training configuration found in save file, so the model was *not* compiled. Compile it manually.\n",
      "Model: \"cow_model\"\n",
      "_________________________________________________________________\n",
      " Layer (type)                Output Shape              Param #   \n",
      "=================================================================\n",
      " conv1d (Conv1D)             multiple                  13184     \n",
      "                                                                 \n",
      " conv1d_1 (Conv1D)           multiple                  24640     \n",
      "                                                                 \n",
      " conv1d_2 (Conv1D)           multiple                  6176      \n",
      "                                                                 \n",
      " batch_normalization (Batch  multiple                  512       \n",
      " Normalization)                                                  \n",
      "                                                                 \n",
      " conv1d_transpose (Conv1DTr  multiple                  1552      \n",
      " anspose)                                                        \n",
      "                                                                 \n",
      " conv1d_transpose_1 (Conv1D  multiple                  392       \n",
      " Transpose)                                                      \n",
      "                                                                 \n",
      " conv1d_transpose_2 (Conv1D  multiple                  100       \n",
      " Transpose)                                                      \n",
      "                                                                 \n",
      "=================================================================\n",
      "Total params: 46556 (181.86 KB)\n",
      "Trainable params: 46300 (180.86 KB)\n",
      "Non-trainable params: 256 (1.00 KB)\n",
      "_________________________________________________________________\n"
     ]
    }
   ],
   "source": [
    "import tensorflow \n",
    "import keras \n",
    "\n",
    "model: keras.Model = keras.models.load_model(\"../data_labelling/cow_model\")\n",
    "model.summary()"
   ]
  },
  {
   "cell_type": "code",
   "execution_count": 1,
   "metadata": {},
   "outputs": [
    {
     "name": "stdout",
     "output_type": "stream",
     "text": [
      "['MOS2E03230475_sorted', 'MOS2E03230488_sorted', 'MOS2E03230532_sorted', 'MOS2E03230539_sorted', 'MOS2E03230553_sorted']\n"
     ]
    }
   ],
   "source": [
    "import os, pathlib, sys\n",
    "\n",
    "INPUT_PATH: str = \"../../../../data/\"\n",
    "sensor_dirs: list[int] = [\n",
    "    d\n",
    "    for d in os.listdir(path=INPUT_PATH)\n",
    "    if os.path.isdir(s=os.path.join(INPUT_PATH, d)) and d.startswith(\"MOS\")\n",
    "]\n",
    "print(sensor_dirs)"
   ]
  },
  {
   "cell_type": "code",
   "execution_count": 2,
   "metadata": {},
   "outputs": [
    {
     "name": "stdout",
     "output_type": "stream",
     "text": [
      "939988 ../../../../data/MOS2E03230475_sorted/MOS2E03230475_sorted.csv\n",
      "939600 ../../../../data/MOS2E03230475_sorted/MOS2E03230475.txt\n",
      "939987 ../../../../data/MOS2E03230475_sorted/MOS2E03230475_timestamps.txt\n",
      "25352221 ../../../../data/MOS2E03230488_sorted/MOS2E03230488_sorted.csv\n",
      "25351800 ../../../../data/MOS2E03230488_sorted/MOS2E03230488.txt\n",
      "25352220 ../../../../data/MOS2E03230488_sorted/MOS2E03230488_timestamps.txt\n",
      "25412432 ../../../../data/MOS2E03230532_sorted/MOS2E03230532_sorted.csv\n",
      "25412400 ../../../../data/MOS2E03230532_sorted/MOS2E03230532.txt\n",
      "25412431 ../../../../data/MOS2E03230532_sorted/MOS2E03230532_timestamps.txt\n",
      "25352342 ../../../../data/MOS2E03230539_sorted/MOS2E03230539_sorted.csv\n",
      "25351800 ../../../../data/MOS2E03230539_sorted/MOS2E03230539.txt\n",
      "25352341 ../../../../data/MOS2E03230539_sorted/MOS2E03230539_timestamps.txt\n",
      "25281061 ../../../../data/MOS2E03230553_sorted/MOS2E03230553_sorted.csv\n",
      "25281000 ../../../../data/MOS2E03230553_sorted/MOS2E03230553.txt\n",
      "25281060 ../../../../data/MOS2E03230553_sorted/MOS2E03230553_timestamps.txt\n"
     ]
    }
   ],
   "source": [
    "import gc\n",
    "from itertools import islice\n",
    "\n",
    "import pandas\n",
    "import glob\n",
    "import pandas.io.parsers.readers\n",
    "\n",
    "for sensor in sensor_dirs:\n",
    "    files: list[str] = os.listdir(path=\"{}{}\".format(INPUT_PATH, sensor))\n",
    "\n",
    "    full_data_file: str = glob.glob(pathname=\"{}{}/*.csv\".format(INPUT_PATH, sensor))[0]\n",
    "    txt_files: list[str] = glob.glob(pathname=\"{}{}/*.txt\".format(INPUT_PATH, sensor))\n",
    "    txt_files.sort()\n",
    "\n",
    "    FULL_DATA_PATH: str = full_data_file\n",
    "    LABELS_PATH: str = txt_files[0]\n",
    "    TIMESTAMPS_PATH: str = txt_files[1]\n",
    "\n",
    "    os.system(command=\"wc -l {}\".format(FULL_DATA_PATH))\n",
    "    os.system(command=\"wc -l {}\".format(LABELS_PATH))\n",
    "    os.system(command=\"wc -l {}\".format(TIMESTAMPS_PATH))\n",
    "    gc.collect()\n",
    "    # break"
   ]
  }
 ],
 "metadata": {
  "kernelspec": {
   "display_name": ".venv",
   "language": "python",
   "name": "python3"
  },
  "language_info": {
   "codemirror_mode": {
    "name": "ipython",
    "version": 3
   },
   "file_extension": ".py",
   "mimetype": "text/x-python",
   "name": "python",
   "nbconvert_exporter": "python",
   "pygments_lexer": "ipython3",
   "version": "3.9.18"
  }
 },
 "nbformat": 4,
 "nbformat_minor": 2
}
